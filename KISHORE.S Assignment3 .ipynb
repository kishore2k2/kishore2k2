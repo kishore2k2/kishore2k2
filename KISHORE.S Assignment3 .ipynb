{
 "cells": [
  {
   "cell_type": "markdown",
   "id": "7660efb6",
   "metadata": {},
   "source": [
    "# 1. Download the dataset"
   ]
  },
  {
   "cell_type": "code",
   "execution_count": 1,
   "id": "93d62057",
   "metadata": {},
   "outputs": [],
   "source": [
    "#importing the libraries\n",
    "\n",
    "import pandas as pd \n",
    "import numpy as np\n",
    "import matplotlib.pyplot as plt\n",
    "import seaborn as sns\n",
    "import warnings \n",
    "warnings.filterwarnings('ignore')"
   ]
  },
  {
   "cell_type": "markdown",
   "id": "97b44e10",
   "metadata": {},
   "source": [
    "# 2. Load the dataset into the tool."
   ]
  },
  {
   "cell_type": "code",
   "execution_count": 2,
   "id": "c19f9683",
   "metadata": {},
   "outputs": [],
   "source": [
    "#loading the dataset\n",
    "\n",
    "d = pd.read_csv(r'Downloads/abalone.csv')"
   ]
  },
  {
   "cell_type": "markdown",
   "id": "c77cc713",
   "metadata": {},
   "source": [
    "# 3. Perform Below Visualizations."
   ]
  },
  {
   "cell_type": "markdown",
   "id": "994b2e91",
   "metadata": {},
   "source": [
    "# ∙ Univariate Analysis"
   ]
  },
  {
   "cell_type": "code",
   "execution_count": 3,
   "id": "c3a69fd9",
   "metadata": {},
   "outputs": [
    {
     "data": {
      "text/html": [
       "<div>\n",
       "<style scoped>\n",
       "    .dataframe tbody tr th:only-of-type {\n",
       "        vertical-align: middle;\n",
       "    }\n",
       "\n",
       "    .dataframe tbody tr th {\n",
       "        vertical-align: top;\n",
       "    }\n",
       "\n",
       "    .dataframe thead th {\n",
       "        text-align: right;\n",
       "    }\n",
       "</style>\n",
       "<table border=\"1\" class=\"dataframe\">\n",
       "  <thead>\n",
       "    <tr style=\"text-align: right;\">\n",
       "      <th></th>\n",
       "      <th>Sex</th>\n",
       "      <th>Length</th>\n",
       "      <th>Diameter</th>\n",
       "      <th>Height</th>\n",
       "      <th>Whole weight</th>\n",
       "      <th>Shucked weight</th>\n",
       "      <th>Viscera weight</th>\n",
       "      <th>Shell weight</th>\n",
       "      <th>Rings</th>\n",
       "    </tr>\n",
       "  </thead>\n",
       "  <tbody>\n",
       "    <tr>\n",
       "      <th>0</th>\n",
       "      <td>M</td>\n",
       "      <td>0.455</td>\n",
       "      <td>0.365</td>\n",
       "      <td>0.095</td>\n",
       "      <td>0.5140</td>\n",
       "      <td>0.2245</td>\n",
       "      <td>0.1010</td>\n",
       "      <td>0.150</td>\n",
       "      <td>15</td>\n",
       "    </tr>\n",
       "    <tr>\n",
       "      <th>1</th>\n",
       "      <td>M</td>\n",
       "      <td>0.350</td>\n",
       "      <td>0.265</td>\n",
       "      <td>0.090</td>\n",
       "      <td>0.2255</td>\n",
       "      <td>0.0995</td>\n",
       "      <td>0.0485</td>\n",
       "      <td>0.070</td>\n",
       "      <td>7</td>\n",
       "    </tr>\n",
       "    <tr>\n",
       "      <th>2</th>\n",
       "      <td>F</td>\n",
       "      <td>0.530</td>\n",
       "      <td>0.420</td>\n",
       "      <td>0.135</td>\n",
       "      <td>0.6770</td>\n",
       "      <td>0.2565</td>\n",
       "      <td>0.1415</td>\n",
       "      <td>0.210</td>\n",
       "      <td>9</td>\n",
       "    </tr>\n",
       "    <tr>\n",
       "      <th>3</th>\n",
       "      <td>M</td>\n",
       "      <td>0.440</td>\n",
       "      <td>0.365</td>\n",
       "      <td>0.125</td>\n",
       "      <td>0.5160</td>\n",
       "      <td>0.2155</td>\n",
       "      <td>0.1140</td>\n",
       "      <td>0.155</td>\n",
       "      <td>10</td>\n",
       "    </tr>\n",
       "    <tr>\n",
       "      <th>4</th>\n",
       "      <td>I</td>\n",
       "      <td>0.330</td>\n",
       "      <td>0.255</td>\n",
       "      <td>0.080</td>\n",
       "      <td>0.2050</td>\n",
       "      <td>0.0895</td>\n",
       "      <td>0.0395</td>\n",
       "      <td>0.055</td>\n",
       "      <td>7</td>\n",
       "    </tr>\n",
       "  </tbody>\n",
       "</table>\n",
       "</div>"
      ],
      "text/plain": [
       "  Sex  Length  Diameter  Height  Whole weight  Shucked weight  Viscera weight  \\\n",
       "0   M   0.455     0.365   0.095        0.5140          0.2245          0.1010   \n",
       "1   M   0.350     0.265   0.090        0.2255          0.0995          0.0485   \n",
       "2   F   0.530     0.420   0.135        0.6770          0.2565          0.1415   \n",
       "3   M   0.440     0.365   0.125        0.5160          0.2155          0.1140   \n",
       "4   I   0.330     0.255   0.080        0.2050          0.0895          0.0395   \n",
       "\n",
       "   Shell weight  Rings  \n",
       "0         0.150     15  \n",
       "1         0.070      7  \n",
       "2         0.210      9  \n",
       "3         0.155     10  \n",
       "4         0.055      7  "
      ]
     },
     "execution_count": 3,
     "metadata": {},
     "output_type": "execute_result"
    }
   ],
   "source": [
    "d.head()"
   ]
  },
  {
   "cell_type": "code",
   "execution_count": 4,
   "id": "63483d20",
   "metadata": {},
   "outputs": [
    {
     "data": {
      "text/plain": [
       "<AxesSubplot:xlabel='Diameter'>"
      ]
     },
     "execution_count": 4,
     "metadata": {},
     "output_type": "execute_result"
    },
    {
     "data": {
      "image/png": "[encoded data removed]",
      "text/plain": [
       "<Figure size 432x288 with 1 Axes>"
      ]
     },
     "metadata": {
      "needs_background": "light"
     },
     "output_type": "display_data"
    }
   ],
   "source": [
    "#Boxplot\n",
    "\n",
    "sns.boxplot(d['Diameter'])"
   ]
  },
  {
   "cell_type": "code",
   "execution_count": 5,
   "id": "039a1f18",
   "metadata": {},
   "outputs": [
    {
     "data": {
      "text/plain": [
       "(array([  13.,   66.,  180.,  344.,  513.,  812., 1017.,  934.,  275.,\n",
       "          23.]),\n",
       " array([0.055 , 0.1145, 0.174 , 0.2335, 0.293 , 0.3525, 0.412 , 0.4715,\n",
       "        0.531 , 0.5905, 0.65  ]),\n",
       " <BarContainer object of 10 artists>)"
      ]
     },
     "execution_count": 5,
     "metadata": {},
     "output_type": "execute_result"
    },
    {
     "data": {
      "image/png": "[encoded data removed]",
      "text/plain": [
       "<Figure size 432x288 with 1 Axes>"
      ]
     },
     "metadata": {
      "needs_background": "light"
     },
     "output_type": "display_data"
    }
   ],
   "source": [
    "#histogram\n",
    "\n",
    "plt.hist(d['Diameter'])"
   ]
  },
  {
   "cell_type": "code",
   "execution_count": 6,
   "id": "026fef78",
   "metadata": {},
   "outputs": [
    {
     "data": {
      "text/plain": [
       "[<matplotlib.lines.Line2D at 0x1c2ed71d130>]"
      ]
     },
     "execution_count": 6,
     "metadata": {},
     "output_type": "execute_result"
    },
    {
     "data": {
      "image/png": "[encoded data removed]",
      "text/plain": [
       "<Figure size 432x288 with 1 Axes>"
      ]
     },
     "metadata": {
      "needs_background": "light"
     },
     "output_type": "display_data"
    }
   ],
   "source": [
    "#line plot\n",
    "\n",
    "plt.plot(d['Diameter'].head(10))"
   ]
  },
  {
   "cell_type": "code",
   "execution_count": 7,
   "id": "2e8182f0",
   "metadata": {},
   "outputs": [
    {
     "data": {
      "text/plain": [
       "([<matplotlib.patches.Wedge at 0x1c2ed77fd00>,\n",
       "  <matplotlib.patches.Wedge at 0x1c2ed78d460>,\n",
       "  <matplotlib.patches.Wedge at 0x1c2ed78db80>,\n",
       "  <matplotlib.patches.Wedge at 0x1c2ed7992e0>,\n",
       "  <matplotlib.patches.Wedge at 0x1c2ed799a30>],\n",
       " [Text(0.8507215626110558, 0.6973326486753676, ''),\n",
       "  Text(-0.32611344931648134, 1.0505474849691026, ''),\n",
       "  Text(-1.0998053664078908, -0.02069193128747144, ''),\n",
       "  Text(-0.08269436219656089, -1.096887251480709, ''),\n",
       "  Text(0.9758446362287218, -0.5076684409569241, '')],\n",
       " [Text(0.464029943242394, 0.3803632629138369, '21.86'),\n",
       "  Text(-0.17788006326353525, 0.5730259008922377, '15.87'),\n",
       "  Text(-0.5998938362224858, -0.011286507974984419, '25.15'),\n",
       "  Text(-0.045106015743578656, -0.5983021371712958, '21.86'),\n",
       "  Text(0.5322788924883937, -0.2769100587037768, '15.27')])"
      ]
     },
     "execution_count": 7,
     "metadata": {},
     "output_type": "execute_result"
    },
    {
     "data": {
      "image/png": "[encoded data removed]",
      "text/plain": [
       "<Figure size 432x288 with 1 Axes>"
      ]
     },
     "metadata": {},
     "output_type": "display_data"
    }
   ],
   "source": [
    "#piechart\n",
    "\n",
    "plt.pie(d['Diameter'].head(),autopct='%.2f')"
   ]
  },
  {
   "cell_type": "code",
   "execution_count": 8,
   "id": "f6aab7f1",
   "metadata": {},
   "outputs": [
    {
     "data": {
      "text/plain": [
       "<AxesSubplot:xlabel='Diameter', ylabel='Density'>"
      ]
     },
     "execution_count": 8,
     "metadata": {},
     "output_type": "execute_result"
    },
    {
     "data": {
      "image/png": "[encoded data removed]",
      "text/plain": [
       "<Figure size 432x288 with 1 Axes>"
      ]
     },
     "metadata": {
      "needs_background": "light"
     },
     "output_type": "display_data"
    }
   ],
   "source": [
    "#distplot\n",
    "\n",
    "sns.distplot(d['Diameter'].head(200))"
   ]
  },
  {
   "cell_type": "markdown",
   "id": "337ddd71",
   "metadata": {},
   "source": [
    "# ● Bi - Variate Analysis"
   ]
  },
  {
   "cell_type": "code",
   "execution_count": 9,
   "id": "81bbc90e",
   "metadata": {},
   "outputs": [
    {
     "data": {
      "text/plain": [
       "<matplotlib.collections.PathCollection at 0x1c2edcc2d60>"
      ]
     },
     "execution_count": 9,
     "metadata": {},
     "output_type": "execute_result"
    },
    {
     "data": {
      "image/png": "[encoded data removed]",
      "text/plain": [
       "<Figure size 432x288 with 1 Axes>"
      ]
     },
     "metadata": {
      "needs_background": "light"
     },
     "output_type": "display_data"
    }
   ],
   "source": [
    "#scatter plot\n",
    "\n",
    "plt.scatter(d['Diameter'].head(500),d['Length'].head(500))"
   ]
  },
  {
   "cell_type": "code",
   "execution_count": 10,
   "id": "1121ed80",
   "metadata": {},
   "outputs": [
    {
     "data": {
      "text/plain": [
       "Text(0, 0.5, 'Rings')"
      ]
     },
     "execution_count": 10,
     "metadata": {},
     "output_type": "execute_result"
    },
    {
     "data": {
      "image/png": "[encoded data removed]",
      "text/plain": [
       "<Figure size 432x288 with 1 Axes>"
      ]
     },
     "metadata": {
      "needs_background": "light"
     },
     "output_type": "display_data"
    }
   ],
   "source": [
    "#bar plot\n",
    "\n",
    "plt.bar(d['Sex'].head(10),d['Rings'].head(10))\n",
    "\n",
    "#labelling of x,y and result\n",
    "\n",
    "plt.title('Bar plot')\n",
    "plt.xlabel('Diameter')\n",
    "plt.ylabel('Rings')"
   ]
  },
  {
   "cell_type": "code",
   "execution_count": 11,
   "id": "8e1d1f1d",
   "metadata": {},
   "outputs": [
    {
     "data": {
      "text/plain": [
       "<AxesSubplot:xlabel='Sex', ylabel='Rings'>"
      ]
     },
     "execution_count": 11,
     "metadata": {},
     "output_type": "execute_result"
    },
    {
     "data": {
      "image/png": "[encoded data removed]",
      "text/plain": [
       "<Figure size 432x288 with 1 Axes>"
      ]
     },
     "metadata": {
      "needs_background": "light"
     },
     "output_type": "display_data"
    }
   ],
   "source": [
    "sns.barplot(d['Sex'], d['Rings'])"
   ]
  },
  {
   "cell_type": "code",
   "execution_count": 12,
   "id": "e00ad187",
   "metadata": {},
   "outputs": [
    {
     "data": {
      "text/plain": [
       "<seaborn.axisgrid.JointGrid at 0x1c2edde3160>"
      ]
     },
     "execution_count": 12,
     "metadata": {},
     "output_type": "execute_result"
    },
    {
     "data": {
      "image/png": "[encoded data removed]",
      "text/plain": [
       "<Figure size 432x432 with 3 Axes>"
      ]
     },
     "metadata": {
      "needs_background": "light"
     },
     "output_type": "display_data"
    }
   ],
   "source": [
    "#joint plot\n",
    "\n",
    "sns.jointplot(d['Diameter'].head(50),d['Rings'].head(50))"
   ]
  },
  {
   "cell_type": "code",
   "execution_count": 13,
   "id": "6c1ab6f1",
   "metadata": {},
   "outputs": [
    {
     "data": {
      "text/plain": [
       "<AxesSubplot:xlabel='Diameter', ylabel='Rings'>"
      ]
     },
     "execution_count": 13,
     "metadata": {},
     "output_type": "execute_result"
    },
    {
     "data": {
      "image/png": "[encoded data removed]",
      "text/plain": [
       "<Figure size 432x288 with 1 Axes>"
      ]
     },
     "metadata": {
      "needs_background": "light"
     },
     "output_type": "display_data"
    }
   ],
   "source": [
    "#bar plot\n",
    "\n",
    "sns.barplot('Diameter','Rings',hue='Sex',data=d.head())"
   ]
  },
  {
   "cell_type": "code",
   "execution_count": 14,
   "id": "e58629c6",
   "metadata": {},
   "outputs": [
    {
     "data": {
      "text/plain": [
       "<AxesSubplot:xlabel='Diameter', ylabel='Rings'>"
      ]
     },
     "execution_count": 14,
     "metadata": {},
     "output_type": "execute_result"
    },
    {
     "data": {
      "image/png": "[encoded data removed]",
      "text/plain": [
       "<Figure size 432x288 with 1 Axes>"
      ]
     },
     "metadata": {
      "needs_background": "light"
     },
     "output_type": "display_data"
    }
   ],
   "source": [
    "sns.lineplot(d['Diameter'].head(),d['Rings'].head())"
   ]
  },
  {
   "cell_type": "markdown",
   "id": "91ef1c58",
   "metadata": {},
   "source": [
    "# ● Multi - Variate Analysis"
   ]
  },
  {
   "cell_type": "code",
   "execution_count": 15,
   "id": "83074473",
   "metadata": {},
   "outputs": [
    {
     "data": {
      "text/plain": [
       "<AxesSubplot:xlabel='Sex', ylabel='Diameter'>"
      ]
     },
     "execution_count": 15,
     "metadata": {},
     "output_type": "execute_result"
    },
    {
     "data": {
      "image/png": "[encoded data removed]",
      "text/plain": [
       "<Figure size 432x288 with 1 Axes>"
      ]
     },
     "metadata": {
      "needs_background": "light"
     },
     "output_type": "display_data"
    }
   ],
   "source": [
    "#boxplot\n",
    "\n",
    "sns.boxplot(d['Sex'].head(10),d['Diameter'].head(10),d['Rings'].head(10))"
   ]
  },
  {
   "cell_type": "code",
   "execution_count": 16,
   "id": "31433357",
   "metadata": {},
   "outputs": [
    {
     "data": {
      "text/plain": [
       "<AxesSubplot:>"
      ]
     },
     "execution_count": 16,
     "metadata": {},
     "output_type": "execute_result"
    },
    {
     "data": {
      "image/png": "[encoded data removed]",
      "text/plain": [
       "<Figure size 576x360 with 2 Axes>"
      ]
     },
     "metadata": {
      "needs_background": "light"
     },
     "output_type": "display_data"
    }
   ],
   "source": [
    "#heat map\n",
    "\n",
    "fig=plt.figure(figsize=(8,5))\n",
    "sns.heatmap(d.head().corr(),annot=True)"
   ]
  },
  {
   "cell_type": "code",
   "execution_count": 17,
   "id": "70203b6f",
   "metadata": {},
   "outputs": [
    {
     "data": {
      "text/plain": [
       "<seaborn.axisgrid.PairGrid at 0x1c2edd07fd0>"
      ]
     },
     "execution_count": 17,
     "metadata": {},
     "output_type": "execute_result"
    },
    {
     "data": {
      "image/png": "[encoded data removed]",
      "text/plain": [
       "<Figure size 1308.75x1260 with 56 Axes>"
      ]
     },
     "metadata": {
      "needs_background": "light"
     },
     "output_type": "display_data"
    }
   ],
   "source": [
    "#pair plot\n",
    "\n",
    "sns.pairplot(d.head(),hue='Rings')"
   ]
  },
  {
   "cell_type": "code",
   "execution_count": 18,
   "id": "ba667ea8",
   "metadata": {},
   "outputs": [
    {
     "data": {
      "text/plain": [
       "<seaborn.axisgrid.PairGrid at 0x1c2f243e910>"
      ]
     },
     "execution_count": 18,
     "metadata": {},
     "output_type": "execute_result"
    },
    {
     "data": {
      "image/png": "[encoded data removed]",
      "text/plain": [
       "<Figure size 1440x1440 with 72 Axes>"
      ]
     },
     "metadata": {
      "needs_background": "light"
     },
     "output_type": "display_data"
    }
   ],
   "source": [
    "sns.pairplot(d.head())"
   ]
  },
  {
   "cell_type": "markdown",
   "id": "7d30a3ae",
   "metadata": {},
   "source": [
    "# 4. Perform descriptive statistics on the dataset."
   ]
  },
  {
   "cell_type": "code",
   "execution_count": 19,
   "id": "061cd8e6",
   "metadata": {},
   "outputs": [
    {
     "data": {
      "text/html": [
       "<div>\n",
       "<style scoped>\n",
       "    .dataframe tbody tr th:only-of-type {\n",
       "        vertical-align: middle;\n",
       "    }\n",
       "\n",
       "    .dataframe tbody tr th {\n",
       "        vertical-align: top;\n",
       "    }\n",
       "\n",
       "    .dataframe thead th {\n",
       "        text-align: right;\n",
       "    }\n",
       "</style>\n",
       "<table border=\"1\" class=\"dataframe\">\n",
       "  <thead>\n",
       "    <tr style=\"text-align: right;\">\n",
       "      <th></th>\n",
       "      <th>Sex</th>\n",
       "      <th>Length</th>\n",
       "      <th>Diameter</th>\n",
       "      <th>Height</th>\n",
       "      <th>Whole weight</th>\n",
       "      <th>Shucked weight</th>\n",
       "      <th>Viscera weight</th>\n",
       "      <th>Shell weight</th>\n",
       "      <th>Rings</th>\n",
       "    </tr>\n",
       "  </thead>\n",
       "  <tbody>\n",
       "    <tr>\n",
       "      <th>0</th>\n",
       "      <td>M</td>\n",
       "      <td>0.455</td>\n",
       "      <td>0.365</td>\n",
       "      <td>0.095</td>\n",
       "      <td>0.5140</td>\n",
       "      <td>0.2245</td>\n",
       "      <td>0.1010</td>\n",
       "      <td>0.150</td>\n",
       "      <td>15</td>\n",
       "    </tr>\n",
       "    <tr>\n",
       "      <th>1</th>\n",
       "      <td>M</td>\n",
       "      <td>0.350</td>\n",
       "      <td>0.265</td>\n",
       "      <td>0.090</td>\n",
       "      <td>0.2255</td>\n",
       "      <td>0.0995</td>\n",
       "      <td>0.0485</td>\n",
       "      <td>0.070</td>\n",
       "      <td>7</td>\n",
       "    </tr>\n",
       "    <tr>\n",
       "      <th>2</th>\n",
       "      <td>F</td>\n",
       "      <td>0.530</td>\n",
       "      <td>0.420</td>\n",
       "      <td>0.135</td>\n",
       "      <td>0.6770</td>\n",
       "      <td>0.2565</td>\n",
       "      <td>0.1415</td>\n",
       "      <td>0.210</td>\n",
       "      <td>9</td>\n",
       "    </tr>\n",
       "    <tr>\n",
       "      <th>3</th>\n",
       "      <td>M</td>\n",
       "      <td>0.440</td>\n",
       "      <td>0.365</td>\n",
       "      <td>0.125</td>\n",
       "      <td>0.5160</td>\n",
       "      <td>0.2155</td>\n",
       "      <td>0.1140</td>\n",
       "      <td>0.155</td>\n",
       "      <td>10</td>\n",
       "    </tr>\n",
       "    <tr>\n",
       "      <th>4</th>\n",
       "      <td>I</td>\n",
       "      <td>0.330</td>\n",
       "      <td>0.255</td>\n",
       "      <td>0.080</td>\n",
       "      <td>0.2050</td>\n",
       "      <td>0.0895</td>\n",
       "      <td>0.0395</td>\n",
       "      <td>0.055</td>\n",
       "      <td>7</td>\n",
       "    </tr>\n",
       "  </tbody>\n",
       "</table>\n",
       "</div>"
      ],
      "text/plain": [
       "  Sex  Length  Diameter  Height  Whole weight  Shucked weight  Viscera weight  \\\n",
       "0   M   0.455     0.365   0.095        0.5140          0.2245          0.1010   \n",
       "1   M   0.350     0.265   0.090        0.2255          0.0995          0.0485   \n",
       "2   F   0.530     0.420   0.135        0.6770          0.2565          0.1415   \n",
       "3   M   0.440     0.365   0.125        0.5160          0.2155          0.1140   \n",
       "4   I   0.330     0.255   0.080        0.2050          0.0895          0.0395   \n",
       "\n",
       "   Shell weight  Rings  \n",
       "0         0.150     15  \n",
       "1         0.070      7  \n",
       "2         0.210      9  \n",
       "3         0.155     10  \n",
       "4         0.055      7  "
      ]
     },
     "execution_count": 19,
     "metadata": {},
     "output_type": "execute_result"
    }
   ],
   "source": [
    "#head\n",
    "\n",
    "d.head()"
   ]
  },
  {
   "cell_type": "code",
   "execution_count": 20,
   "id": "7a22ef57",
   "metadata": {},
   "outputs": [
    {
     "data": {
      "text/html": [
       "<div>\n",
       "<style scoped>\n",
       "    .dataframe tbody tr th:only-of-type {\n",
       "        vertical-align: middle;\n",
       "    }\n",
       "\n",
       "    .dataframe tbody tr th {\n",
       "        vertical-align: top;\n",
       "    }\n",
       "\n",
       "    .dataframe thead th {\n",
       "        text-align: right;\n",
       "    }\n",
       "</style>\n",
       "<table border=\"1\" class=\"dataframe\">\n",
       "  <thead>\n",
       "    <tr style=\"text-align: right;\">\n",
       "      <th></th>\n",
       "      <th>Sex</th>\n",
       "      <th>Length</th>\n",
       "      <th>Diameter</th>\n",
       "      <th>Height</th>\n",
       "      <th>Whole weight</th>\n",
       "      <th>Shucked weight</th>\n",
       "      <th>Viscera weight</th>\n",
       "      <th>Shell weight</th>\n",
       "      <th>Rings</th>\n",
       "    </tr>\n",
       "  </thead>\n",
       "  <tbody>\n",
       "    <tr>\n",
       "      <th>4172</th>\n",
       "      <td>F</td>\n",
       "      <td>0.565</td>\n",
       "      <td>0.450</td>\n",
       "      <td>0.165</td>\n",
       "      <td>0.8870</td>\n",
       "      <td>0.3700</td>\n",
       "      <td>0.2390</td>\n",
       "      <td>0.2490</td>\n",
       "      <td>11</td>\n",
       "    </tr>\n",
       "    <tr>\n",
       "      <th>4173</th>\n",
       "      <td>M</td>\n",
       "      <td>0.590</td>\n",
       "      <td>0.440</td>\n",
       "      <td>0.135</td>\n",
       "      <td>0.9660</td>\n",
       "      <td>0.4390</td>\n",
       "      <td>0.2145</td>\n",
       "      <td>0.2605</td>\n",
       "      <td>10</td>\n",
       "    </tr>\n",
       "    <tr>\n",
       "      <th>4174</th>\n",
       "      <td>M</td>\n",
       "      <td>0.600</td>\n",
       "      <td>0.475</td>\n",
       "      <td>0.205</td>\n",
       "      <td>1.1760</td>\n",
       "      <td>0.5255</td>\n",
       "      <td>0.2875</td>\n",
       "      <td>0.3080</td>\n",
       "      <td>9</td>\n",
       "    </tr>\n",
       "    <tr>\n",
       "      <th>4175</th>\n",
       "      <td>F</td>\n",
       "      <td>0.625</td>\n",
       "      <td>0.485</td>\n",
       "      <td>0.150</td>\n",
       "      <td>1.0945</td>\n",
       "      <td>0.5310</td>\n",
       "      <td>0.2610</td>\n",
       "      <td>0.2960</td>\n",
       "      <td>10</td>\n",
       "    </tr>\n",
       "    <tr>\n",
       "      <th>4176</th>\n",
       "      <td>M</td>\n",
       "      <td>0.710</td>\n",
       "      <td>0.555</td>\n",
       "      <td>0.195</td>\n",
       "      <td>1.9485</td>\n",
       "      <td>0.9455</td>\n",
       "      <td>0.3765</td>\n",
       "      <td>0.4950</td>\n",
       "      <td>12</td>\n",
       "    </tr>\n",
       "  </tbody>\n",
       "</table>\n",
       "</div>"
      ],
      "text/plain": [
       "     Sex  Length  Diameter  Height  Whole weight  Shucked weight  \\\n",
       "4172   F   0.565     0.450   0.165        0.8870          0.3700   \n",
       "4173   M   0.590     0.440   0.135        0.9660          0.4390   \n",
       "4174   M   0.600     0.475   0.205        1.1760          0.5255   \n",
       "4175   F   0.625     0.485   0.150        1.0945          0.5310   \n",
       "4176   M   0.710     0.555   0.195        1.9485          0.9455   \n",
       "\n",
       "      Viscera weight  Shell weight  Rings  \n",
       "4172          0.2390        0.2490     11  \n",
       "4173          0.2145        0.2605     10  \n",
       "4174          0.2875        0.3080      9  \n",
       "4175          0.2610        0.2960     10  \n",
       "4176          0.3765        0.4950     12  "
      ]
     },
     "execution_count": 20,
     "metadata": {},
     "output_type": "execute_result"
    }
   ],
   "source": [
    "#tail\n",
    "\n",
    "d.tail()"
   ]
  },
  {
   "cell_type": "code",
   "execution_count": 21,
   "id": "76871b6f",
   "metadata": {},
   "outputs": [
    {
     "name": "stdout",
     "output_type": "stream",
     "text": [
      "<class 'pandas.core.frame.DataFrame'>\n",
      "RangeIndex: 4177 entries, 0 to 4176\n",
      "Data columns (total 9 columns):\n",
      " #   Column          Non-Null Count  Dtype  \n",
      "---  ------          --------------  -----  \n",
      " 0   Sex             4177 non-null   object \n",
      " 1   Length          4177 non-null   float64\n",
      " 2   Diameter        4177 non-null   float64\n",
      " 3   Height          4177 non-null   float64\n",
      " 4   Whole weight    4177 non-null   float64\n",
      " 5   Shucked weight  4177 non-null   float64\n",
      " 6   Viscera weight  4177 non-null   float64\n",
      " 7   Shell weight    4177 non-null   float64\n",
      " 8   Rings           4177 non-null   int64  \n",
      "dtypes: float64(7), int64(1), object(1)\n",
      "memory usage: 293.8+ KB\n"
     ]
    }
   ],
   "source": [
    "d.info()"
   ]
  },
  {
   "cell_type": "code",
   "execution_count": 22,
   "id": "85faed0f",
   "metadata": {},
   "outputs": [
    {
     "data": {
      "text/html": [
       "<div>\n",
       "<style scoped>\n",
       "    .dataframe tbody tr th:only-of-type {\n",
       "        vertical-align: middle;\n",
       "    }\n",
       "\n",
       "    .dataframe tbody tr th {\n",
       "        vertical-align: top;\n",
       "    }\n",
       "\n",
       "    .dataframe thead th {\n",
       "        text-align: right;\n",
       "    }\n",
       "</style>\n",
       "<table border=\"1\" class=\"dataframe\">\n",
       "  <thead>\n",
       "    <tr style=\"text-align: right;\">\n",
       "      <th></th>\n",
       "      <th>Length</th>\n",
       "      <th>Diameter</th>\n",
       "      <th>Height</th>\n",
       "      <th>Whole weight</th>\n",
       "      <th>Shucked weight</th>\n",
       "      <th>Viscera weight</th>\n",
       "      <th>Shell weight</th>\n",
       "      <th>Rings</th>\n",
       "    </tr>\n",
       "  </thead>\n",
       "  <tbody>\n",
       "    <tr>\n",
       "      <th>count</th>\n",
       "      <td>4177.000000</td>\n",
       "      <td>4177.000000</td>\n",
       "      <td>4177.000000</td>\n",
       "      <td>4177.000000</td>\n",
       "      <td>4177.000000</td>\n",
       "      <td>4177.000000</td>\n",
       "      <td>4177.000000</td>\n",
       "      <td>4177.000000</td>\n",
       "    </tr>\n",
       "    <tr>\n",
       "      <th>mean</th>\n",
       "      <td>0.523992</td>\n",
       "      <td>0.407881</td>\n",
       "      <td>0.139516</td>\n",
       "      <td>0.828742</td>\n",
       "      <td>0.359367</td>\n",
       "      <td>0.180594</td>\n",
       "      <td>0.238831</td>\n",
       "      <td>9.933684</td>\n",
       "    </tr>\n",
       "    <tr>\n",
       "      <th>std</th>\n",
       "      <td>0.120093</td>\n",
       "      <td>0.099240</td>\n",
       "      <td>0.041827</td>\n",
       "      <td>0.490389</td>\n",
       "      <td>0.221963</td>\n",
       "      <td>0.109614</td>\n",
       "      <td>0.139203</td>\n",
       "      <td>3.224169</td>\n",
       "    </tr>\n",
       "    <tr>\n",
       "      <th>min</th>\n",
       "      <td>0.075000</td>\n",
       "      <td>0.055000</td>\n",
       "      <td>0.000000</td>\n",
       "      <td>0.002000</td>\n",
       "      <td>0.001000</td>\n",
       "      <td>0.000500</td>\n",
       "      <td>0.001500</td>\n",
       "      <td>1.000000</td>\n",
       "    </tr>\n",
       "    <tr>\n",
       "      <th>25%</th>\n",
       "      <td>0.450000</td>\n",
       "      <td>0.350000</td>\n",
       "      <td>0.115000</td>\n",
       "      <td>0.441500</td>\n",
       "      <td>0.186000</td>\n",
       "      <td>0.093500</td>\n",
       "      <td>0.130000</td>\n",
       "      <td>8.000000</td>\n",
       "    </tr>\n",
       "    <tr>\n",
       "      <th>50%</th>\n",
       "      <td>0.545000</td>\n",
       "      <td>0.425000</td>\n",
       "      <td>0.140000</td>\n",
       "      <td>0.799500</td>\n",
       "      <td>0.336000</td>\n",
       "      <td>0.171000</td>\n",
       "      <td>0.234000</td>\n",
       "      <td>9.000000</td>\n",
       "    </tr>\n",
       "    <tr>\n",
       "      <th>75%</th>\n",
       "      <td>0.615000</td>\n",
       "      <td>0.480000</td>\n",
       "      <td>0.165000</td>\n",
       "      <td>1.153000</td>\n",
       "      <td>0.502000</td>\n",
       "      <td>0.253000</td>\n",
       "      <td>0.329000</td>\n",
       "      <td>11.000000</td>\n",
       "    </tr>\n",
       "    <tr>\n",
       "      <th>max</th>\n",
       "      <td>0.815000</td>\n",
       "      <td>0.650000</td>\n",
       "      <td>1.130000</td>\n",
       "      <td>2.825500</td>\n",
       "      <td>1.488000</td>\n",
       "      <td>0.760000</td>\n",
       "      <td>1.005000</td>\n",
       "      <td>29.000000</td>\n",
       "    </tr>\n",
       "  </tbody>\n",
       "</table>\n",
       "</div>"
      ],
      "text/plain": [
       "            Length     Diameter       Height  Whole weight  Shucked weight  \\\n",
       "count  4177.000000  4177.000000  4177.000000   4177.000000     4177.000000   \n",
       "mean      0.523992     0.407881     0.139516      0.828742        0.359367   \n",
       "std       0.120093     0.099240     0.041827      0.490389        0.221963   \n",
       "min       0.075000     0.055000     0.000000      0.002000        0.001000   \n",
       "25%       0.450000     0.350000     0.115000      0.441500        0.186000   \n",
       "50%       0.545000     0.425000     0.140000      0.799500        0.336000   \n",
       "75%       0.615000     0.480000     0.165000      1.153000        0.502000   \n",
       "max       0.815000     0.650000     1.130000      2.825500        1.488000   \n",
       "\n",
       "       Viscera weight  Shell weight        Rings  \n",
       "count     4177.000000   4177.000000  4177.000000  \n",
       "mean         0.180594      0.238831     9.933684  \n",
       "std          0.109614      0.139203     3.224169  \n",
       "min          0.000500      0.001500     1.000000  \n",
       "25%          0.093500      0.130000     8.000000  \n",
       "50%          0.171000      0.234000     9.000000  \n",
       "75%          0.253000      0.329000    11.000000  \n",
       "max          0.760000      1.005000    29.000000  "
      ]
     },
     "execution_count": 22,
     "metadata": {},
     "output_type": "execute_result"
    }
   ],
   "source": [
    "d.describe()"
   ]
  },
  {
   "cell_type": "code",
   "execution_count": 23,
   "id": "9127df4e",
   "metadata": {},
   "outputs": [
    {
     "data": {
      "text/html": [
       "<div>\n",
       "<style scoped>\n",
       "    .dataframe tbody tr th:only-of-type {\n",
       "        vertical-align: middle;\n",
       "    }\n",
       "\n",
       "    .dataframe tbody tr th {\n",
       "        vertical-align: top;\n",
       "    }\n",
       "\n",
       "    .dataframe thead th {\n",
       "        text-align: right;\n",
       "    }\n",
       "</style>\n",
       "<table border=\"1\" class=\"dataframe\">\n",
       "  <thead>\n",
       "    <tr style=\"text-align: right;\">\n",
       "      <th></th>\n",
       "      <th>0</th>\n",
       "      <th>1</th>\n",
       "    </tr>\n",
       "  </thead>\n",
       "  <tbody>\n",
       "    <tr>\n",
       "      <th>Sex</th>\n",
       "      <td>M</td>\n",
       "      <td>NaN</td>\n",
       "    </tr>\n",
       "    <tr>\n",
       "      <th>Length</th>\n",
       "      <td>0.55</td>\n",
       "      <td>0.625</td>\n",
       "    </tr>\n",
       "    <tr>\n",
       "      <th>Diameter</th>\n",
       "      <td>0.45</td>\n",
       "      <td>NaN</td>\n",
       "    </tr>\n",
       "    <tr>\n",
       "      <th>Height</th>\n",
       "      <td>0.15</td>\n",
       "      <td>NaN</td>\n",
       "    </tr>\n",
       "    <tr>\n",
       "      <th>Whole weight</th>\n",
       "      <td>0.2225</td>\n",
       "      <td>NaN</td>\n",
       "    </tr>\n",
       "    <tr>\n",
       "      <th>Shucked weight</th>\n",
       "      <td>0.175</td>\n",
       "      <td>NaN</td>\n",
       "    </tr>\n",
       "    <tr>\n",
       "      <th>Viscera weight</th>\n",
       "      <td>0.1715</td>\n",
       "      <td>NaN</td>\n",
       "    </tr>\n",
       "    <tr>\n",
       "      <th>Shell weight</th>\n",
       "      <td>0.275</td>\n",
       "      <td>NaN</td>\n",
       "    </tr>\n",
       "    <tr>\n",
       "      <th>Rings</th>\n",
       "      <td>9.0</td>\n",
       "      <td>NaN</td>\n",
       "    </tr>\n",
       "  </tbody>\n",
       "</table>\n",
       "</div>"
      ],
      "text/plain": [
       "                     0      1\n",
       "Sex                  M    NaN\n",
       "Length            0.55  0.625\n",
       "Diameter          0.45    NaN\n",
       "Height            0.15    NaN\n",
       "Whole weight    0.2225    NaN\n",
       "Shucked weight   0.175    NaN\n",
       "Viscera weight  0.1715    NaN\n",
       "Shell weight     0.275    NaN\n",
       "Rings              9.0    NaN"
      ]
     },
     "execution_count": 23,
     "metadata": {},
     "output_type": "execute_result"
    }
   ],
   "source": [
    "#mode\n",
    "\n",
    "d.mode().T"
   ]
  },
  {
   "cell_type": "code",
   "execution_count": 24,
   "id": "262bcbde",
   "metadata": {},
   "outputs": [
    {
     "data": {
      "text/plain": [
       "(4177, 9)"
      ]
     },
     "execution_count": 24,
     "metadata": {},
     "output_type": "execute_result"
    }
   ],
   "source": [
    "d.shape"
   ]
  },
  {
   "cell_type": "code",
   "execution_count": 25,
   "id": "a5f4ccc0",
   "metadata": {},
   "outputs": [
    {
     "data": {
      "text/plain": [
       "Length             0.064621\n",
       "Diameter          -0.045476\n",
       "Height            76.025509\n",
       "Whole weight      -0.023644\n",
       "Shucked weight     0.595124\n",
       "Viscera weight     0.084012\n",
       "Shell weight       0.531926\n",
       "Rings              2.330687\n",
       "dtype: float64"
      ]
     },
     "execution_count": 25,
     "metadata": {},
     "output_type": "execute_result"
    }
   ],
   "source": [
    "#kurtosis\n",
    "\n",
    "d.kurt()"
   ]
  },
  {
   "cell_type": "code",
   "execution_count": 26,
   "id": "35809f00",
   "metadata": {},
   "outputs": [
    {
     "data": {
      "text/plain": [
       "Length           -0.639873\n",
       "Diameter         -0.609198\n",
       "Height            3.128817\n",
       "Whole weight      0.530959\n",
       "Shucked weight    0.719098\n",
       "Viscera weight    0.591852\n",
       "Shell weight      0.620927\n",
       "Rings             1.114102\n",
       "dtype: float64"
      ]
     },
     "execution_count": 26,
     "metadata": {},
     "output_type": "execute_result"
    }
   ],
   "source": [
    "#skewness\n",
    "\n",
    "d.skew()"
   ]
  },
  {
   "cell_type": "code",
   "execution_count": 27,
   "id": "3119be8c",
   "metadata": {},
   "outputs": [
    {
     "data": {
      "text/plain": [
       "Length             0.014422\n",
       "Diameter           0.009849\n",
       "Height             0.001750\n",
       "Whole weight       0.240481\n",
       "Shucked weight     0.049268\n",
       "Viscera weight     0.012015\n",
       "Shell weight       0.019377\n",
       "Rings             10.395266\n",
       "dtype: float64"
      ]
     },
     "execution_count": 27,
     "metadata": {},
     "output_type": "execute_result"
    }
   ],
   "source": [
    "#variance\n",
    "\n",
    "d.var()"
   ]
  },
  {
   "cell_type": "code",
   "execution_count": 28,
   "id": "6ac7bb94",
   "metadata": {},
   "outputs": [
    {
     "data": {
      "text/plain": [
       "Sex                  3\n",
       "Length             134\n",
       "Diameter           111\n",
       "Height              51\n",
       "Whole weight      2429\n",
       "Shucked weight    1515\n",
       "Viscera weight     880\n",
       "Shell weight       926\n",
       "Rings               28\n",
       "dtype: int64"
      ]
     },
     "execution_count": 28,
     "metadata": {},
     "output_type": "execute_result"
    }
   ],
   "source": [
    "#finding unique values for columns\n",
    "\n",
    "d.nunique()"
   ]
  },
  {
   "cell_type": "markdown",
   "id": "633fae8d",
   "metadata": {},
   "source": [
    "# 5. Check for Missing values and deal with them."
   ]
  },
  {
   "cell_type": "code",
   "execution_count": 29,
   "id": "d567255f",
   "metadata": {},
   "outputs": [
    {
     "data": {
      "text/html": [
       "<div>\n",
       "<style scoped>\n",
       "    .dataframe tbody tr th:only-of-type {\n",
       "        vertical-align: middle;\n",
       "    }\n",
       "\n",
       "    .dataframe tbody tr th {\n",
       "        vertical-align: top;\n",
       "    }\n",
       "\n",
       "    .dataframe thead th {\n",
       "        text-align: right;\n",
       "    }\n",
       "</style>\n",
       "<table border=\"1\" class=\"dataframe\">\n",
       "  <thead>\n",
       "    <tr style=\"text-align: right;\">\n",
       "      <th></th>\n",
       "      <th>Sex</th>\n",
       "      <th>Length</th>\n",
       "      <th>Diameter</th>\n",
       "      <th>Height</th>\n",
       "      <th>Whole weight</th>\n",
       "      <th>Shucked weight</th>\n",
       "      <th>Viscera weight</th>\n",
       "      <th>Shell weight</th>\n",
       "      <th>Rings</th>\n",
       "    </tr>\n",
       "  </thead>\n",
       "  <tbody>\n",
       "    <tr>\n",
       "      <th>0</th>\n",
       "      <td>False</td>\n",
       "      <td>False</td>\n",
       "      <td>False</td>\n",
       "      <td>False</td>\n",
       "      <td>False</td>\n",
       "      <td>False</td>\n",
       "      <td>False</td>\n",
       "      <td>False</td>\n",
       "      <td>False</td>\n",
       "    </tr>\n",
       "    <tr>\n",
       "      <th>1</th>\n",
       "      <td>False</td>\n",
       "      <td>False</td>\n",
       "      <td>False</td>\n",
       "      <td>False</td>\n",
       "      <td>False</td>\n",
       "      <td>False</td>\n",
       "      <td>False</td>\n",
       "      <td>False</td>\n",
       "      <td>False</td>\n",
       "    </tr>\n",
       "    <tr>\n",
       "      <th>2</th>\n",
       "      <td>False</td>\n",
       "      <td>False</td>\n",
       "      <td>False</td>\n",
       "      <td>False</td>\n",
       "      <td>False</td>\n",
       "      <td>False</td>\n",
       "      <td>False</td>\n",
       "      <td>False</td>\n",
       "      <td>False</td>\n",
       "    </tr>\n",
       "    <tr>\n",
       "      <th>3</th>\n",
       "      <td>False</td>\n",
       "      <td>False</td>\n",
       "      <td>False</td>\n",
       "      <td>False</td>\n",
       "      <td>False</td>\n",
       "      <td>False</td>\n",
       "      <td>False</td>\n",
       "      <td>False</td>\n",
       "      <td>False</td>\n",
       "    </tr>\n",
       "    <tr>\n",
       "      <th>4</th>\n",
       "      <td>False</td>\n",
       "      <td>False</td>\n",
       "      <td>False</td>\n",
       "      <td>False</td>\n",
       "      <td>False</td>\n",
       "      <td>False</td>\n",
       "      <td>False</td>\n",
       "      <td>False</td>\n",
       "      <td>False</td>\n",
       "    </tr>\n",
       "    <tr>\n",
       "      <th>...</th>\n",
       "      <td>...</td>\n",
       "      <td>...</td>\n",
       "      <td>...</td>\n",
       "      <td>...</td>\n",
       "      <td>...</td>\n",
       "      <td>...</td>\n",
       "      <td>...</td>\n",
       "      <td>...</td>\n",
       "      <td>...</td>\n",
       "    </tr>\n",
       "    <tr>\n",
       "      <th>4172</th>\n",
       "      <td>False</td>\n",
       "      <td>False</td>\n",
       "      <td>False</td>\n",
       "      <td>False</td>\n",
       "      <td>False</td>\n",
       "      <td>False</td>\n",
       "      <td>False</td>\n",
       "      <td>False</td>\n",
       "      <td>False</td>\n",
       "    </tr>\n",
       "    <tr>\n",
       "      <th>4173</th>\n",
       "      <td>False</td>\n",
       "      <td>False</td>\n",
       "      <td>False</td>\n",
       "      <td>False</td>\n",
       "      <td>False</td>\n",
       "      <td>False</td>\n",
       "      <td>False</td>\n",
       "      <td>False</td>\n",
       "      <td>False</td>\n",
       "    </tr>\n",
       "    <tr>\n",
       "      <th>4174</th>\n",
       "      <td>False</td>\n",
       "      <td>False</td>\n",
       "      <td>False</td>\n",
       "      <td>False</td>\n",
       "      <td>False</td>\n",
       "      <td>False</td>\n",
       "      <td>False</td>\n",
       "      <td>False</td>\n",
       "      <td>False</td>\n",
       "    </tr>\n",
       "    <tr>\n",
       "      <th>4175</th>\n",
       "      <td>False</td>\n",
       "      <td>False</td>\n",
       "      <td>False</td>\n",
       "      <td>False</td>\n",
       "      <td>False</td>\n",
       "      <td>False</td>\n",
       "      <td>False</td>\n",
       "      <td>False</td>\n",
       "      <td>False</td>\n",
       "    </tr>\n",
       "    <tr>\n",
       "      <th>4176</th>\n",
       "      <td>False</td>\n",
       "      <td>False</td>\n",
       "      <td>False</td>\n",
       "      <td>False</td>\n",
       "      <td>False</td>\n",
       "      <td>False</td>\n",
       "      <td>False</td>\n",
       "      <td>False</td>\n",
       "      <td>False</td>\n",
       "    </tr>\n",
       "  </tbody>\n",
       "</table>\n",
       "<p>4177 rows × 9 columns</p>\n",
       "</div>"
      ],
      "text/plain": [
       "        Sex  Length  Diameter  Height  Whole weight  Shucked weight  \\\n",
       "0     False   False     False   False         False           False   \n",
       "1     False   False     False   False         False           False   \n",
       "2     False   False     False   False         False           False   \n",
       "3     False   False     False   False         False           False   \n",
       "4     False   False     False   False         False           False   \n",
       "...     ...     ...       ...     ...           ...             ...   \n",
       "4172  False   False     False   False         False           False   \n",
       "4173  False   False     False   False         False           False   \n",
       "4174  False   False     False   False         False           False   \n",
       "4175  False   False     False   False         False           False   \n",
       "4176  False   False     False   False         False           False   \n",
       "\n",
       "      Viscera weight  Shell weight  Rings  \n",
       "0              False         False  False  \n",
       "1              False         False  False  \n",
       "2              False         False  False  \n",
       "3              False         False  False  \n",
       "4              False         False  False  \n",
       "...              ...           ...    ...  \n",
       "4172           False         False  False  \n",
       "4173           False         False  False  \n",
       "4174           False         False  False  \n",
       "4175           False         False  False  \n",
       "4176           False         False  False  \n",
       "\n",
       "[4177 rows x 9 columns]"
      ]
     },
     "execution_count": 29,
     "metadata": {},
     "output_type": "execute_result"
    }
   ],
   "source": [
    "#finding missing values\n",
    "\n",
    "d.isna()"
   ]
  },
  {
   "cell_type": "code",
   "execution_count": 30,
   "id": "164cb274",
   "metadata": {},
   "outputs": [
    {
     "data": {
      "text/plain": [
       "Sex               False\n",
       "Length            False\n",
       "Diameter          False\n",
       "Height            False\n",
       "Whole weight      False\n",
       "Shucked weight    False\n",
       "Viscera weight    False\n",
       "Shell weight      False\n",
       "Rings             False\n",
       "dtype: bool"
      ]
     },
     "execution_count": 30,
     "metadata": {},
     "output_type": "execute_result"
    }
   ],
   "source": [
    "d.isna().any()"
   ]
  },
  {
   "cell_type": "code",
   "execution_count": 31,
   "id": "e79ef2e0",
   "metadata": {},
   "outputs": [
    {
     "data": {
      "text/plain": [
       "Sex               0\n",
       "Length            0\n",
       "Diameter          0\n",
       "Height            0\n",
       "Whole weight      0\n",
       "Shucked weight    0\n",
       "Viscera weight    0\n",
       "Shell weight      0\n",
       "Rings             0\n",
       "dtype: int64"
      ]
     },
     "execution_count": 31,
     "metadata": {},
     "output_type": "execute_result"
    }
   ],
   "source": [
    "d.isna().sum()"
   ]
  },
  {
   "cell_type": "code",
   "execution_count": 32,
   "id": "1d793759",
   "metadata": {},
   "outputs": [
    {
     "data": {
      "text/plain": [
       "0"
      ]
     },
     "execution_count": 32,
     "metadata": {},
     "output_type": "execute_result"
    }
   ],
   "source": [
    "d.isna().any().sum()\n",
    "#no missing values"
   ]
  },
  {
   "cell_type": "markdown",
   "id": "b9150fb8",
   "metadata": {},
   "source": [
    "# 6. Find the outliers and replace them outliers"
   ]
  },
  {
   "cell_type": "code",
   "execution_count": 33,
   "id": "9547900f",
   "metadata": {},
   "outputs": [
    {
     "data": {
      "text/plain": [
       "<AxesSubplot:xlabel='Diameter'>"
      ]
     },
     "execution_count": 33,
     "metadata": {},
     "output_type": "execute_result"
    },
    {
     "data": {
      "image/png": "[encoded data removed]",
      "text/plain": [
       "<Figure size 432x288 with 1 Axes>"
      ]
     },
     "metadata": {
      "needs_background": "light"
     },
     "output_type": "display_data"
    }
   ],
   "source": [
    "#finding outliers\n",
    "\n",
    "sns.boxplot(d['Diameter'])"
   ]
  },
  {
   "cell_type": "code",
   "execution_count": 34,
   "id": "d5fc293d",
   "metadata": {},
   "outputs": [
    {
     "data": {
      "text/html": [
       "<div>\n",
       "<style scoped>\n",
       "    .dataframe tbody tr th:only-of-type {\n",
       "        vertical-align: middle;\n",
       "    }\n",
       "\n",
       "    .dataframe tbody tr th {\n",
       "        vertical-align: top;\n",
       "    }\n",
       "\n",
       "    .dataframe thead th {\n",
       "        text-align: right;\n",
       "    }\n",
       "</style>\n",
       "<table border=\"1\" class=\"dataframe\">\n",
       "  <thead>\n",
       "    <tr style=\"text-align: right;\">\n",
       "      <th></th>\n",
       "      <th>Length</th>\n",
       "      <th>Diameter</th>\n",
       "      <th>Height</th>\n",
       "      <th>Whole weight</th>\n",
       "      <th>Shucked weight</th>\n",
       "      <th>Viscera weight</th>\n",
       "      <th>Shell weight</th>\n",
       "      <th>Rings</th>\n",
       "    </tr>\n",
       "  </thead>\n",
       "  <tbody>\n",
       "    <tr>\n",
       "      <th>0.25</th>\n",
       "      <td>0.450</td>\n",
       "      <td>0.35</td>\n",
       "      <td>0.115</td>\n",
       "      <td>0.4415</td>\n",
       "      <td>0.186</td>\n",
       "      <td>0.0935</td>\n",
       "      <td>0.130</td>\n",
       "      <td>8.0</td>\n",
       "    </tr>\n",
       "    <tr>\n",
       "      <th>0.75</th>\n",
       "      <td>0.615</td>\n",
       "      <td>0.48</td>\n",
       "      <td>0.165</td>\n",
       "      <td>1.1530</td>\n",
       "      <td>0.502</td>\n",
       "      <td>0.2530</td>\n",
       "      <td>0.329</td>\n",
       "      <td>11.0</td>\n",
       "    </tr>\n",
       "  </tbody>\n",
       "</table>\n",
       "</div>"
      ],
      "text/plain": [
       "      Length  Diameter  Height  Whole weight  Shucked weight  Viscera weight  \\\n",
       "0.25   0.450      0.35   0.115        0.4415           0.186          0.0935   \n",
       "0.75   0.615      0.48   0.165        1.1530           0.502          0.2530   \n",
       "\n",
       "      Shell weight  Rings  \n",
       "0.25         0.130    8.0  \n",
       "0.75         0.329   11.0  "
      ]
     },
     "execution_count": 34,
     "metadata": {},
     "output_type": "execute_result"
    }
   ],
   "source": [
    "#handling outliers\n",
    "\n",
    "qnt=d.quantile(q=[0.25,0.75])\n",
    "qnt"
   ]
  },
  {
   "cell_type": "code",
   "execution_count": 35,
   "id": "a277b6d3",
   "metadata": {},
   "outputs": [
    {
     "data": {
      "text/plain": [
       "Length            0.1650\n",
       "Diameter          0.1300\n",
       "Height            0.0500\n",
       "Whole weight      0.7115\n",
       "Shucked weight    0.3160\n",
       "Viscera weight    0.1595\n",
       "Shell weight      0.1990\n",
       "Rings             3.0000\n",
       "dtype: float64"
      ]
     },
     "execution_count": 35,
     "metadata": {},
     "output_type": "execute_result"
    }
   ],
   "source": [
    "iqr=qnt.loc[0.75]-qnt.loc[0.25]\n",
    "\n",
    "iqr"
   ]
  },
  {
   "cell_type": "code",
   "execution_count": 36,
   "id": "2689a80c",
   "metadata": {},
   "outputs": [
    {
     "data": {
      "text/plain": [
       "Length            0.20250\n",
       "Diameter          0.15500\n",
       "Height            0.04000\n",
       "Whole weight     -0.62575\n",
       "Shucked weight   -0.28800\n",
       "Viscera weight   -0.14575\n",
       "Shell weight     -0.16850\n",
       "Rings             3.50000\n",
       "dtype: float64"
      ]
     },
     "execution_count": 36,
     "metadata": {},
     "output_type": "execute_result"
    }
   ],
   "source": [
    "lower=qnt.loc[0.25]-(1.5*iqr)\n",
    "lower"
   ]
  },
  {
   "cell_type": "code",
   "execution_count": 37,
   "id": "2efabbd7",
   "metadata": {},
   "outputs": [
    {
     "data": {
      "text/plain": [
       "Length             0.86250\n",
       "Diameter           0.67500\n",
       "Height             0.24000\n",
       "Whole weight       2.22025\n",
       "Shucked weight     0.97600\n",
       "Viscera weight     0.49225\n",
       "Shell weight       0.62750\n",
       "Rings             15.50000\n",
       "dtype: float64"
      ]
     },
     "execution_count": 37,
     "metadata": {},
     "output_type": "execute_result"
    }
   ],
   "source": [
    "upper=qnt.loc[0.75]+(1.5*iqr)\n",
    "upper"
   ]
  },
  {
   "cell_type": "code",
   "execution_count": 38,
   "id": "00670c40",
   "metadata": {},
   "outputs": [
    {
     "data": {
      "text/plain": [
       "<AxesSubplot:xlabel='Diameter'>"
      ]
     },
     "execution_count": 38,
     "metadata": {},
     "output_type": "execute_result"
    },
    {
     "data": {
      "image/png": "[encoded data removed]",
      "text/plain": [
       "<Figure size 432x288 with 1 Axes>"
      ]
     },
     "metadata": {
      "needs_background": "light"
     },
     "output_type": "display_data"
    }
   ],
   "source": [
    "# replacing outliers\n",
    "\n",
    "##Diameter\n",
    "d['Diameter']=np.where(d['Diameter']<0.155,0.4078,d['Diameter'])\n",
    "sns.boxplot(d['Diameter'])\n"
   ]
  },
  {
   "cell_type": "code",
   "execution_count": 39,
   "id": "093b88b9",
   "metadata": {},
   "outputs": [
    {
     "data": {
      "text/plain": [
       "<AxesSubplot:xlabel='Length'>"
      ]
     },
     "execution_count": 39,
     "metadata": {},
     "output_type": "execute_result"
    },
    {
     "data": {
      "image/png": "[encoded data removed]",
      "text/plain": [
       "<Figure size 432x288 with 1 Axes>"
      ]
     },
     "metadata": {
      "needs_background": "light"
     },
     "output_type": "display_data"
    }
   ],
   "source": [
    "## Length\n",
    "\n",
    "sns.boxplot(d['Length'])"
   ]
  },
  {
   "cell_type": "code",
   "execution_count": 40,
   "id": "9a666124",
   "metadata": {},
   "outputs": [],
   "source": [
    "d['Length']=np.where(d['Length']<0.23,0.52, d['Length'])"
   ]
  },
  {
   "cell_type": "code",
   "execution_count": 41,
   "id": "399b156a",
   "metadata": {},
   "outputs": [
    {
     "data": {
      "text/plain": [
       "<AxesSubplot:xlabel='Length'>"
      ]
     },
     "execution_count": 41,
     "metadata": {},
     "output_type": "execute_result"
    },
    {
     "data": {
      "image/png": "[encoded data removed]",
      "text/plain": [
       "<Figure size 432x288 with 1 Axes>"
      ]
     },
     "metadata": {
      "needs_background": "light"
     },
     "output_type": "display_data"
    }
   ],
   "source": [
    "sns.boxplot(d['Length'])"
   ]
  },
  {
   "cell_type": "code",
   "execution_count": 42,
   "id": "db802c95",
   "metadata": {},
   "outputs": [
    {
     "data": {
      "text/plain": [
       "<AxesSubplot:xlabel='Height'>"
      ]
     },
     "execution_count": 42,
     "metadata": {},
     "output_type": "execute_result"
    },
    {
     "data": {
      "image/png": "[encoded data removed]",
      "text/plain": [
       "<Figure size 432x288 with 1 Axes>"
      ]
     },
     "metadata": {
      "needs_background": "light"
     },
     "output_type": "display_data"
    }
   ],
   "source": [
    "## Height\n",
    "\n",
    "sns.boxplot(d['Height'])"
   ]
  },
  {
   "cell_type": "code",
   "execution_count": 43,
   "id": "bb504376",
   "metadata": {},
   "outputs": [],
   "source": [
    "d['Height']=np.where(d['Height']<0.04,0.139, d['Height'])\n",
    "d['Height']=np.where(d['Height']>0.23,0.139, d['Height'])"
   ]
  },
  {
   "cell_type": "code",
   "execution_count": 44,
   "id": "e4e370bc",
   "metadata": {},
   "outputs": [
    {
     "data": {
      "text/plain": [
       "<AxesSubplot:xlabel='Height'>"
      ]
     },
     "execution_count": 44,
     "metadata": {},
     "output_type": "execute_result"
    },
    {
     "data": {
      "image/png": "[encoded data removed]",
      "text/plain": [
       "<Figure size 432x288 with 1 Axes>"
      ]
     },
     "metadata": {
      "needs_background": "light"
     },
     "output_type": "display_data"
    }
   ],
   "source": [
    "sns.boxplot(d['Height'])"
   ]
  },
  {
   "cell_type": "code",
   "execution_count": 45,
   "id": "f1d38022",
   "metadata": {},
   "outputs": [
    {
     "data": {
      "text/plain": [
       "<AxesSubplot:xlabel='Whole weight'>"
      ]
     },
     "execution_count": 45,
     "metadata": {},
     "output_type": "execute_result"
    },
    {
     "data": {
      "image/png": "[encoded data removed]",
      "text/plain": [
       "<Figure size 432x288 with 1 Axes>"
      ]
     },
     "metadata": {
      "needs_background": "light"
     },
     "output_type": "display_data"
    }
   ],
   "source": [
    "## Whole weight\n",
    "\n",
    "sns.boxplot(d['Whole weight'])"
   ]
  },
  {
   "cell_type": "code",
   "execution_count": 46,
   "id": "f165911d",
   "metadata": {},
   "outputs": [],
   "source": [
    "d['Whole weight']=np.where(d['Whole weight']>0.9,0.82, d['Whole weight'])"
   ]
  },
  {
   "cell_type": "code",
   "execution_count": 47,
   "id": "40d2c06c",
   "metadata": {},
   "outputs": [
    {
     "data": {
      "text/plain": [
       "<AxesSubplot:xlabel='Whole weight'>"
      ]
     },
     "execution_count": 47,
     "metadata": {},
     "output_type": "execute_result"
    },
    {
     "data": {
      "image/png": "[encoded data removed]",
      "text/plain": [
       "<Figure size 432x288 with 1 Axes>"
      ]
     },
     "metadata": {
      "needs_background": "light"
     },
     "output_type": "display_data"
    }
   ],
   "source": [
    "sns.boxplot(d['Whole weight'])"
   ]
  },
  {
   "cell_type": "code",
   "execution_count": 48,
   "id": "287a4399",
   "metadata": {},
   "outputs": [
    {
     "data": {
      "text/plain": [
       "<AxesSubplot:xlabel='Shucked weight'>"
      ]
     },
     "execution_count": 48,
     "metadata": {},
     "output_type": "execute_result"
    },
    {
     "data": {
      "image/png": "[encoded data removed]",
      "text/plain": [
       "<Figure size 432x288 with 1 Axes>"
      ]
     },
     "metadata": {
      "needs_background": "light"
     },
     "output_type": "display_data"
    }
   ],
   "source": [
    "## Shucked weight\n",
    "\n",
    "sns.boxplot(d['Shucked weight'])"
   ]
  },
  {
   "cell_type": "code",
   "execution_count": 49,
   "id": "28cd0184",
   "metadata": {},
   "outputs": [],
   "source": [
    "d['Shucked weight']=np.where(d['Shucked weight']>0.93,0.35, d['Shucked weight'])"
   ]
  },
  {
   "cell_type": "code",
   "execution_count": 50,
   "id": "6187cbbf",
   "metadata": {},
   "outputs": [
    {
     "data": {
      "text/plain": [
       "<AxesSubplot:xlabel='Shucked weight'>"
      ]
     },
     "execution_count": 50,
     "metadata": {},
     "output_type": "execute_result"
    },
    {
     "data": {
      "image/png": "[encoded data removed]",
      "text/plain": [
       "<Figure size 432x288 with 1 Axes>"
      ]
     },
     "metadata": {
      "needs_background": "light"
     },
     "output_type": "display_data"
    }
   ],
   "source": [
    "sns.boxplot(d['Shucked weight'])"
   ]
  },
  {
   "cell_type": "code",
   "execution_count": 51,
   "id": "8d06d631",
   "metadata": {},
   "outputs": [
    {
     "data": {
      "text/plain": [
       "<AxesSubplot:xlabel='Viscera weight'>"
      ]
     },
     "execution_count": 51,
     "metadata": {},
     "output_type": "execute_result"
    },
    {
     "data": {
      "image/png": "[encoded data removed]",
      "text/plain": [
       "<Figure size 432x288 with 1 Axes>"
      ]
     },
     "metadata": {
      "needs_background": "light"
     },
     "output_type": "display_data"
    }
   ],
   "source": [
    "## Viscera weight\n",
    "\n",
    "sns.boxplot(d['Viscera weight'])"
   ]
  },
  {
   "cell_type": "code",
   "execution_count": 52,
   "id": "aa43e5a4",
   "metadata": {},
   "outputs": [],
   "source": [
    "d['Viscera weight']=np.where(d['Viscera weight']>0.46,0.18, d['Viscera weight'])"
   ]
  },
  {
   "cell_type": "code",
   "execution_count": 53,
   "id": "b1146955",
   "metadata": {},
   "outputs": [
    {
     "data": {
      "text/plain": [
       "<AxesSubplot:xlabel='Viscera weight'>"
      ]
     },
     "execution_count": 53,
     "metadata": {},
     "output_type": "execute_result"
    },
    {
     "data": {
      "image/png": "[encoded data removed]",
      "text/plain": [
       "<Figure size 432x288 with 1 Axes>"
      ]
     },
     "metadata": {
      "needs_background": "light"
     },
     "output_type": "display_data"
    }
   ],
   "source": [
    "sns.boxplot(d['Viscera weight'])"
   ]
  },
  {
   "cell_type": "code",
   "execution_count": 54,
   "id": "9771b246",
   "metadata": {},
   "outputs": [
    {
     "data": {
      "text/plain": [
       "<AxesSubplot:xlabel='Shell weight'>"
      ]
     },
     "execution_count": 54,
     "metadata": {},
     "output_type": "execute_result"
    },
    {
     "data": {
      "image/png": "[encoded data removed]",
      "text/plain": [
       "<Figure size 432x288 with 1 Axes>"
      ]
     },
     "metadata": {
      "needs_background": "light"
     },
     "output_type": "display_data"
    }
   ],
   "source": [
    "## Shell weight\n",
    "\n",
    "sns.boxplot(d['Shell weight'])"
   ]
  },
  {
   "cell_type": "code",
   "execution_count": 55,
   "id": "056279a4",
   "metadata": {},
   "outputs": [],
   "source": [
    "d['Shell weight']=np.where(d['Shell weight']>0.61,0.2388, d['Shell weight'])"
   ]
  },
  {
   "cell_type": "code",
   "execution_count": 56,
   "id": "8da08f1f",
   "metadata": {},
   "outputs": [
    {
     "data": {
      "text/plain": [
       "<AxesSubplot:xlabel='Shell weight'>"
      ]
     },
     "execution_count": 56,
     "metadata": {},
     "output_type": "execute_result"
    },
    {
     "data": {
      "image/png": "[encoded data removed]",
      "text/plain": [
       "<Figure size 432x288 with 1 Axes>"
      ]
     },
     "metadata": {
      "needs_background": "light"
     },
     "output_type": "display_data"
    }
   ],
   "source": [
    "sns.boxplot(d['Shell weight'])"
   ]
  },
  {
   "cell_type": "markdown",
   "id": "57d5caa4",
   "metadata": {},
   "source": [
    "# 7. Check for Categorical columns and perform encoding."
   ]
  },
  {
   "cell_type": "code",
   "execution_count": 57,
   "id": "975fd434",
   "metadata": {},
   "outputs": [
    {
     "data": {
      "text/html": [
       "<div>\n",
       "<style scoped>\n",
       "    .dataframe tbody tr th:only-of-type {\n",
       "        vertical-align: middle;\n",
       "    }\n",
       "\n",
       "    .dataframe tbody tr th {\n",
       "        vertical-align: top;\n",
       "    }\n",
       "\n",
       "    .dataframe thead th {\n",
       "        text-align: right;\n",
       "    }\n",
       "</style>\n",
       "<table border=\"1\" class=\"dataframe\">\n",
       "  <thead>\n",
       "    <tr style=\"text-align: right;\">\n",
       "      <th></th>\n",
       "      <th>Sex</th>\n",
       "      <th>Length</th>\n",
       "      <th>Diameter</th>\n",
       "      <th>Height</th>\n",
       "      <th>Whole weight</th>\n",
       "      <th>Shucked weight</th>\n",
       "      <th>Viscera weight</th>\n",
       "      <th>Shell weight</th>\n",
       "      <th>Rings</th>\n",
       "    </tr>\n",
       "  </thead>\n",
       "  <tbody>\n",
       "    <tr>\n",
       "      <th>0</th>\n",
       "      <td>1</td>\n",
       "      <td>0.455</td>\n",
       "      <td>0.365</td>\n",
       "      <td>0.095</td>\n",
       "      <td>0.5140</td>\n",
       "      <td>0.2245</td>\n",
       "      <td>0.1010</td>\n",
       "      <td>0.1500</td>\n",
       "      <td>15</td>\n",
       "    </tr>\n",
       "    <tr>\n",
       "      <th>1</th>\n",
       "      <td>1</td>\n",
       "      <td>0.350</td>\n",
       "      <td>0.265</td>\n",
       "      <td>0.090</td>\n",
       "      <td>0.2255</td>\n",
       "      <td>0.0995</td>\n",
       "      <td>0.0485</td>\n",
       "      <td>0.0700</td>\n",
       "      <td>7</td>\n",
       "    </tr>\n",
       "    <tr>\n",
       "      <th>2</th>\n",
       "      <td>0</td>\n",
       "      <td>0.530</td>\n",
       "      <td>0.420</td>\n",
       "      <td>0.135</td>\n",
       "      <td>0.6770</td>\n",
       "      <td>0.2565</td>\n",
       "      <td>0.1415</td>\n",
       "      <td>0.2100</td>\n",
       "      <td>9</td>\n",
       "    </tr>\n",
       "    <tr>\n",
       "      <th>3</th>\n",
       "      <td>1</td>\n",
       "      <td>0.440</td>\n",
       "      <td>0.365</td>\n",
       "      <td>0.125</td>\n",
       "      <td>0.5160</td>\n",
       "      <td>0.2155</td>\n",
       "      <td>0.1140</td>\n",
       "      <td>0.1550</td>\n",
       "      <td>10</td>\n",
       "    </tr>\n",
       "    <tr>\n",
       "      <th>4</th>\n",
       "      <td>2</td>\n",
       "      <td>0.330</td>\n",
       "      <td>0.255</td>\n",
       "      <td>0.080</td>\n",
       "      <td>0.2050</td>\n",
       "      <td>0.0895</td>\n",
       "      <td>0.0395</td>\n",
       "      <td>0.0550</td>\n",
       "      <td>7</td>\n",
       "    </tr>\n",
       "    <tr>\n",
       "      <th>...</th>\n",
       "      <td>...</td>\n",
       "      <td>...</td>\n",
       "      <td>...</td>\n",
       "      <td>...</td>\n",
       "      <td>...</td>\n",
       "      <td>...</td>\n",
       "      <td>...</td>\n",
       "      <td>...</td>\n",
       "      <td>...</td>\n",
       "    </tr>\n",
       "    <tr>\n",
       "      <th>4172</th>\n",
       "      <td>0</td>\n",
       "      <td>0.565</td>\n",
       "      <td>0.450</td>\n",
       "      <td>0.165</td>\n",
       "      <td>0.8870</td>\n",
       "      <td>0.3700</td>\n",
       "      <td>0.2390</td>\n",
       "      <td>0.2490</td>\n",
       "      <td>11</td>\n",
       "    </tr>\n",
       "    <tr>\n",
       "      <th>4173</th>\n",
       "      <td>1</td>\n",
       "      <td>0.590</td>\n",
       "      <td>0.440</td>\n",
       "      <td>0.135</td>\n",
       "      <td>0.8200</td>\n",
       "      <td>0.4390</td>\n",
       "      <td>0.2145</td>\n",
       "      <td>0.2605</td>\n",
       "      <td>10</td>\n",
       "    </tr>\n",
       "    <tr>\n",
       "      <th>4174</th>\n",
       "      <td>1</td>\n",
       "      <td>0.600</td>\n",
       "      <td>0.475</td>\n",
       "      <td>0.205</td>\n",
       "      <td>0.8200</td>\n",
       "      <td>0.5255</td>\n",
       "      <td>0.2875</td>\n",
       "      <td>0.3080</td>\n",
       "      <td>9</td>\n",
       "    </tr>\n",
       "    <tr>\n",
       "      <th>4175</th>\n",
       "      <td>0</td>\n",
       "      <td>0.625</td>\n",
       "      <td>0.485</td>\n",
       "      <td>0.150</td>\n",
       "      <td>0.8200</td>\n",
       "      <td>0.5310</td>\n",
       "      <td>0.2610</td>\n",
       "      <td>0.2960</td>\n",
       "      <td>10</td>\n",
       "    </tr>\n",
       "    <tr>\n",
       "      <th>4176</th>\n",
       "      <td>1</td>\n",
       "      <td>0.710</td>\n",
       "      <td>0.555</td>\n",
       "      <td>0.195</td>\n",
       "      <td>0.8200</td>\n",
       "      <td>0.3500</td>\n",
       "      <td>0.3765</td>\n",
       "      <td>0.4950</td>\n",
       "      <td>12</td>\n",
       "    </tr>\n",
       "  </tbody>\n",
       "</table>\n",
       "<p>4177 rows × 9 columns</p>\n",
       "</div>"
      ],
      "text/plain": [
       "      Sex  Length  Diameter  Height  Whole weight  Shucked weight  \\\n",
       "0       1   0.455     0.365   0.095        0.5140          0.2245   \n",
       "1       1   0.350     0.265   0.090        0.2255          0.0995   \n",
       "2       0   0.530     0.420   0.135        0.6770          0.2565   \n",
       "3       1   0.440     0.365   0.125        0.5160          0.2155   \n",
       "4       2   0.330     0.255   0.080        0.2050          0.0895   \n",
       "...   ...     ...       ...     ...           ...             ...   \n",
       "4172    0   0.565     0.450   0.165        0.8870          0.3700   \n",
       "4173    1   0.590     0.440   0.135        0.8200          0.4390   \n",
       "4174    1   0.600     0.475   0.205        0.8200          0.5255   \n",
       "4175    0   0.625     0.485   0.150        0.8200          0.5310   \n",
       "4176    1   0.710     0.555   0.195        0.8200          0.3500   \n",
       "\n",
       "      Viscera weight  Shell weight  Rings  \n",
       "0             0.1010        0.1500     15  \n",
       "1             0.0485        0.0700      7  \n",
       "2             0.1415        0.2100      9  \n",
       "3             0.1140        0.1550     10  \n",
       "4             0.0395        0.0550      7  \n",
       "...              ...           ...    ...  \n",
       "4172          0.2390        0.2490     11  \n",
       "4173          0.2145        0.2605     10  \n",
       "4174          0.2875        0.3080      9  \n",
       "4175          0.2610        0.2960     10  \n",
       "4176          0.3765        0.4950     12  \n",
       "\n",
       "[4177 rows x 9 columns]"
      ]
     },
     "execution_count": 57,
     "metadata": {},
     "output_type": "execute_result"
    }
   ],
   "source": [
    "#one hot encoding\n",
    "\n",
    "d['Sex'].replace({'M':1,'F':0,'I':2},inplace=True)\n",
    "d"
   ]
  },
  {
   "cell_type": "markdown",
   "id": "80092f13",
   "metadata": {},
   "source": [
    "# 8. Split the data into dependent and independent variables."
   ]
  },
  {
   "cell_type": "code",
   "execution_count": 58,
   "id": "fa7ca432",
   "metadata": {},
   "outputs": [
    {
     "data": {
      "text/html": [
       "<div>\n",
       "<style scoped>\n",
       "    .dataframe tbody tr th:only-of-type {\n",
       "        vertical-align: middle;\n",
       "    }\n",
       "\n",
       "    .dataframe tbody tr th {\n",
       "        vertical-align: top;\n",
       "    }\n",
       "\n",
       "    .dataframe thead th {\n",
       "        text-align: right;\n",
       "    }\n",
       "</style>\n",
       "<table border=\"1\" class=\"dataframe\">\n",
       "  <thead>\n",
       "    <tr style=\"text-align: right;\">\n",
       "      <th></th>\n",
       "      <th>Sex</th>\n",
       "      <th>Length</th>\n",
       "      <th>Diameter</th>\n",
       "      <th>Height</th>\n",
       "      <th>Whole weight</th>\n",
       "      <th>Shucked weight</th>\n",
       "      <th>Viscera weight</th>\n",
       "      <th>Shell weight</th>\n",
       "    </tr>\n",
       "  </thead>\n",
       "  <tbody>\n",
       "    <tr>\n",
       "      <th>0</th>\n",
       "      <td>1</td>\n",
       "      <td>0.455</td>\n",
       "      <td>0.365</td>\n",
       "      <td>0.095</td>\n",
       "      <td>0.5140</td>\n",
       "      <td>0.2245</td>\n",
       "      <td>0.1010</td>\n",
       "      <td>0.1500</td>\n",
       "    </tr>\n",
       "    <tr>\n",
       "      <th>1</th>\n",
       "      <td>1</td>\n",
       "      <td>0.350</td>\n",
       "      <td>0.265</td>\n",
       "      <td>0.090</td>\n",
       "      <td>0.2255</td>\n",
       "      <td>0.0995</td>\n",
       "      <td>0.0485</td>\n",
       "      <td>0.0700</td>\n",
       "    </tr>\n",
       "    <tr>\n",
       "      <th>2</th>\n",
       "      <td>0</td>\n",
       "      <td>0.530</td>\n",
       "      <td>0.420</td>\n",
       "      <td>0.135</td>\n",
       "      <td>0.6770</td>\n",
       "      <td>0.2565</td>\n",
       "      <td>0.1415</td>\n",
       "      <td>0.2100</td>\n",
       "    </tr>\n",
       "    <tr>\n",
       "      <th>3</th>\n",
       "      <td>1</td>\n",
       "      <td>0.440</td>\n",
       "      <td>0.365</td>\n",
       "      <td>0.125</td>\n",
       "      <td>0.5160</td>\n",
       "      <td>0.2155</td>\n",
       "      <td>0.1140</td>\n",
       "      <td>0.1550</td>\n",
       "    </tr>\n",
       "    <tr>\n",
       "      <th>4</th>\n",
       "      <td>2</td>\n",
       "      <td>0.330</td>\n",
       "      <td>0.255</td>\n",
       "      <td>0.080</td>\n",
       "      <td>0.2050</td>\n",
       "      <td>0.0895</td>\n",
       "      <td>0.0395</td>\n",
       "      <td>0.0550</td>\n",
       "    </tr>\n",
       "    <tr>\n",
       "      <th>...</th>\n",
       "      <td>...</td>\n",
       "      <td>...</td>\n",
       "      <td>...</td>\n",
       "      <td>...</td>\n",
       "      <td>...</td>\n",
       "      <td>...</td>\n",
       "      <td>...</td>\n",
       "      <td>...</td>\n",
       "    </tr>\n",
       "    <tr>\n",
       "      <th>4172</th>\n",
       "      <td>0</td>\n",
       "      <td>0.565</td>\n",
       "      <td>0.450</td>\n",
       "      <td>0.165</td>\n",
       "      <td>0.8870</td>\n",
       "      <td>0.3700</td>\n",
       "      <td>0.2390</td>\n",
       "      <td>0.2490</td>\n",
       "    </tr>\n",
       "    <tr>\n",
       "      <th>4173</th>\n",
       "      <td>1</td>\n",
       "      <td>0.590</td>\n",
       "      <td>0.440</td>\n",
       "      <td>0.135</td>\n",
       "      <td>0.8200</td>\n",
       "      <td>0.4390</td>\n",
       "      <td>0.2145</td>\n",
       "      <td>0.2605</td>\n",
       "    </tr>\n",
       "    <tr>\n",
       "      <th>4174</th>\n",
       "      <td>1</td>\n",
       "      <td>0.600</td>\n",
       "      <td>0.475</td>\n",
       "      <td>0.205</td>\n",
       "      <td>0.8200</td>\n",
       "      <td>0.5255</td>\n",
       "      <td>0.2875</td>\n",
       "      <td>0.3080</td>\n",
       "    </tr>\n",
       "    <tr>\n",
       "      <th>4175</th>\n",
       "      <td>0</td>\n",
       "      <td>0.625</td>\n",
       "      <td>0.485</td>\n",
       "      <td>0.150</td>\n",
       "      <td>0.8200</td>\n",
       "      <td>0.5310</td>\n",
       "      <td>0.2610</td>\n",
       "      <td>0.2960</td>\n",
       "    </tr>\n",
       "    <tr>\n",
       "      <th>4176</th>\n",
       "      <td>1</td>\n",
       "      <td>0.710</td>\n",
       "      <td>0.555</td>\n",
       "      <td>0.195</td>\n",
       "      <td>0.8200</td>\n",
       "      <td>0.3500</td>\n",
       "      <td>0.3765</td>\n",
       "      <td>0.4950</td>\n",
       "    </tr>\n",
       "  </tbody>\n",
       "</table>\n",
       "<p>4177 rows × 8 columns</p>\n",
       "</div>"
      ],
      "text/plain": [
       "      Sex  Length  Diameter  Height  Whole weight  Shucked weight  \\\n",
       "0       1   0.455     0.365   0.095        0.5140          0.2245   \n",
       "1       1   0.350     0.265   0.090        0.2255          0.0995   \n",
       "2       0   0.530     0.420   0.135        0.6770          0.2565   \n",
       "3       1   0.440     0.365   0.125        0.5160          0.2155   \n",
       "4       2   0.330     0.255   0.080        0.2050          0.0895   \n",
       "...   ...     ...       ...     ...           ...             ...   \n",
       "4172    0   0.565     0.450   0.165        0.8870          0.3700   \n",
       "4173    1   0.590     0.440   0.135        0.8200          0.4390   \n",
       "4174    1   0.600     0.475   0.205        0.8200          0.5255   \n",
       "4175    0   0.625     0.485   0.150        0.8200          0.5310   \n",
       "4176    1   0.710     0.555   0.195        0.8200          0.3500   \n",
       "\n",
       "      Viscera weight  Shell weight  \n",
       "0             0.1010        0.1500  \n",
       "1             0.0485        0.0700  \n",
       "2             0.1415        0.2100  \n",
       "3             0.1140        0.1550  \n",
       "4             0.0395        0.0550  \n",
       "...              ...           ...  \n",
       "4172          0.2390        0.2490  \n",
       "4173          0.2145        0.2605  \n",
       "4174          0.2875        0.3080  \n",
       "4175          0.2610        0.2960  \n",
       "4176          0.3765        0.4950  \n",
       "\n",
       "[4177 rows x 8 columns]"
      ]
     },
     "execution_count": 58,
     "metadata": {},
     "output_type": "execute_result"
    }
   ],
   "source": [
    "x=d.drop(columns= ['Rings'])\n",
    "y=d['Rings']\n",
    "x"
   ]
  },
  {
   "cell_type": "code",
   "execution_count": 59,
   "id": "75895937",
   "metadata": {},
   "outputs": [
    {
     "data": {
      "text/plain": [
       "0       15\n",
       "1        7\n",
       "2        9\n",
       "3       10\n",
       "4        7\n",
       "        ..\n",
       "4172    11\n",
       "4173    10\n",
       "4174     9\n",
       "4175    10\n",
       "4176    12\n",
       "Name: Rings, Length: 4177, dtype: int64"
      ]
     },
     "execution_count": 59,
     "metadata": {},
     "output_type": "execute_result"
    }
   ],
   "source": [
    "y"
   ]
  },
  {
   "cell_type": "markdown",
   "id": "e6d9c6d4",
   "metadata": {},
   "source": [
    "# 9. Scale the independent variables"
   ]
  },
  {
   "cell_type": "code",
   "execution_count": 60,
   "id": "6ba4c7e1",
   "metadata": {},
   "outputs": [],
   "source": [
    "from sklearn.preprocessing import scale  #StandardScaler"
   ]
  },
  {
   "cell_type": "code",
   "execution_count": 61,
   "id": "de0cb151",
   "metadata": {},
   "outputs": [
    {
     "data": {
      "text/plain": [
       "array([[-0.0105225 , -0.67088921, -0.50179694, ..., -0.61037964,\n",
       "        -0.7328165 , -0.64358742],\n",
       "       [-0.0105225 , -1.61376082, -1.57304487, ..., -1.22513334,\n",
       "        -1.24343929, -1.25742181],\n",
       "       [-1.26630752,  0.00259051,  0.08738942, ..., -0.45300269,\n",
       "        -0.33890749, -0.18321163],\n",
       "       ...,\n",
       "       [-0.0105225 ,  0.63117159,  0.67657577, ...,  0.86994729,\n",
       "         1.08111018,  0.56873549],\n",
       "       [-1.26630752,  0.85566483,  0.78370057, ...,  0.89699645,\n",
       "         0.82336724,  0.47666033],\n",
       "       [-0.0105225 ,  1.61894185,  1.53357412, ...,  0.00683308,\n",
       "         1.94673739,  2.00357336]])"
      ]
     },
     "execution_count": 61,
     "metadata": {},
     "output_type": "execute_result"
    }
   ],
   "source": [
    "#Scaling the independent variables\n",
    "\n",
    "x = scale(x)\n",
    "x"
   ]
  },
  {
   "cell_type": "markdown",
   "id": "eeab0c7c",
   "metadata": {},
   "source": [
    "# 10. Split the data into training and testing"
   ]
  },
  {
   "cell_type": "code",
   "execution_count": 62,
   "id": "03eced36",
   "metadata": {},
   "outputs": [],
   "source": [
    "from sklearn.model_selection import train_test_split"
   ]
  },
  {
   "cell_type": "code",
   "execution_count": 63,
   "id": "f6c415b1",
   "metadata": {},
   "outputs": [
    {
     "name": "stdout",
     "output_type": "stream",
     "text": [
      "(3341, 8) (836, 8)\n"
     ]
    }
   ],
   "source": [
    "#spliting data to train and test\n",
    "\n",
    "x_train, x_test, y_train, y_test = train_test_split(x,y, test_size = 0.2)\n",
    "print(x_train.shape, x_test.shape)"
   ]
  },
  {
   "cell_type": "markdown",
   "id": "64ec5837",
   "metadata": {},
   "source": [
    "# 11. Build the Model"
   ]
  },
  {
   "cell_type": "code",
   "execution_count": 64,
   "id": "3c6650fa",
   "metadata": {},
   "outputs": [],
   "source": [
    "#Multiple Regression \n",
    "\n",
    "from sklearn.linear_model import LinearRegression\n",
    "\n",
    "MLR=LinearRegression()"
   ]
  },
  {
   "cell_type": "markdown",
   "id": "e5f4bcfc",
   "metadata": {},
   "source": [
    "# 12. Train the Model"
   ]
  },
  {
   "cell_type": "code",
   "execution_count": 65,
   "id": "3e948f33",
   "metadata": {},
   "outputs": [
    {
     "data": {
      "text/plain": [
       "LinearRegression()"
      ]
     },
     "execution_count": 65,
     "metadata": {},
     "output_type": "execute_result"
    }
   ],
   "source": [
    "MLR.fit(x_train,y_train)"
   ]
  },
  {
   "cell_type": "markdown",
   "id": "97bcb5fc",
   "metadata": {},
   "source": [
    "# 13. Test the Model"
   ]
  },
  {
   "cell_type": "code",
   "execution_count": 66,
   "id": "c379bb92",
   "metadata": {},
   "outputs": [
    {
     "data": {
      "text/plain": [
       "array([11.46655124,  9.2166091 ,  6.59967857,  7.81824648, 12.18984569,\n",
       "       11.44220895, 11.20545145,  8.71621092, 10.98237601,  6.83381457,\n",
       "       10.46227495,  9.10809044, 12.39359143, 14.54491772, 13.54791716,\n",
       "       10.12045364, 11.48597397,  7.73511543, 12.86466796,  8.37939955,\n",
       "        6.51920876,  8.16682072,  8.05416099, 10.22713858, 10.57995698,\n",
       "       11.31009826,  7.52742935,  9.88582514, 11.25644638, 11.38973324,\n",
       "       10.95569239, 10.28552912, 10.40475249, 10.44887526, 11.03343746,\n",
       "       10.15213587, 10.04733695,  6.54448931, 11.86305246,  6.73817965,\n",
       "        4.07354447, 11.09033543,  7.69897797,  9.56311429, 11.63006462,\n",
       "       13.17063754,  6.34451832,  7.27896893, 15.31511539,  6.92860099,\n",
       "        3.63485054,  6.80184256, 11.451762  , 10.69664795,  8.59383781,\n",
       "        7.50446583, 10.33994154, 11.85072027, 13.544946  , 10.27236403,\n",
       "        9.18410191,  7.7208794 , 12.33421272,  6.527156  , 11.17483778,\n",
       "        7.97617745,  9.31452692,  9.56473016,  9.51077399, 12.20917888,\n",
       "       12.10672271,  4.70427674,  6.38943267, 10.02410014, 11.97786002,\n",
       "       12.77246335,  6.50139525, 10.64829499,  7.7058727 ,  6.05475715,\n",
       "       11.28248424, 10.75341994, 17.22835762,  9.53819376,  8.96368426,\n",
       "        6.61412036, 12.00162611,  5.85400348,  4.07058709, 10.08426584,\n",
       "       10.15760235, 11.50892785, 10.58412873, 10.32113545, 12.98841501,\n",
       "        8.18964873, 11.93682602,  6.70118247, 11.48752503, 12.89823547,\n",
       "       12.3065319 , 10.35332697, 12.06030546, 10.91879728,  6.9141468 ,\n",
       "        9.21633163, 10.05626581,  8.83066221, 12.24298038,  9.07242401,\n",
       "       13.81004813, 11.82875137, 14.91422858,  9.53115836, 13.5007134 ,\n",
       "       10.73200076, 10.44672916, 10.52814746,  9.23776504, 11.01675142,\n",
       "        8.71604154,  9.88283574, 11.2333849 , 13.30658223,  8.3713648 ,\n",
       "       12.01722034,  9.10569509, 13.21395754, 10.91487555, 10.15199083,\n",
       "       12.3418191 , 11.59193421,  9.68585151, 10.75368753, 11.71847896,\n",
       "       10.53409073, 10.23516488,  7.94434563, 10.7240195 ,  6.86516422,\n",
       "       11.29095096, 11.65193745, 10.58393935,  7.32706385, 12.08156712,\n",
       "        6.89752696, 10.57864774, 10.74693815,  9.73055048,  9.01381298,\n",
       "       11.08035974, 11.38863443,  6.77726833, 11.87936178, 11.3741094 ,\n",
       "        7.00305264,  9.14767233, 11.78990085, 16.41287886,  9.59484617,\n",
       "       10.13991082,  7.39800219,  8.82744259, 11.00847962,  4.42659274,\n",
       "       16.05117902, 10.47242172,  8.5934219 , 12.1386631 , 12.32739773,\n",
       "       13.01748805, 12.58039502,  9.98828409,  8.75527444, 10.38037914,\n",
       "        7.57060413,  8.27138567,  8.40600072,  6.76228962, 10.32032189,\n",
       "        8.67242772, 13.03654371,  9.56131505, 10.26489928, 11.99158219,\n",
       "        7.70012254,  7.66953878,  6.05670156, 12.44623614, 13.36254631,\n",
       "        9.64710363,  9.82433961,  8.69292259,  8.8185511 ,  9.24967567,\n",
       "        9.98058419,  9.85242564, 10.64545699, 11.67343588,  7.93686284,\n",
       "        7.03262675, 10.26567434, 10.09871771, 13.50591946, 11.0841158 ,\n",
       "        9.47102227, 11.0168721 , 12.81631792,  7.6684106 , 11.23631081,\n",
       "        6.40773943,  5.95687864,  6.49800115,  7.79053507, 11.22092288,\n",
       "       11.59061772,  8.5000764 ,  6.92136837,  8.12836246, 11.28433105,\n",
       "       13.38676711, 11.14060392, 11.93648041,  8.8948073 , 11.35921062,\n",
       "        9.57310656, 12.6082804 ,  8.74963137, 11.06933583, 12.01091381,\n",
       "       11.2462487 , 10.98287726,  9.36700023,  9.85916866,  9.74371241,\n",
       "       10.06827377, 10.88243442, 11.07858883,  4.36554884, 11.53743991,\n",
       "       11.05499558, 10.48807911, 11.40993399, 10.78546479, 11.1704897 ,\n",
       "        6.42163951, 11.66460479,  6.78670828,  6.81582029, 12.53842328,\n",
       "       11.69607929, 10.39192599,  9.31101801, 10.3337405 ,  6.44259651,\n",
       "       11.89061   ,  6.2324919 , 11.27695258, 13.60734678, 11.83145916,\n",
       "        9.01036047,  8.97958257,  9.32562372,  9.50456741, 11.70902745,\n",
       "       12.08168574, 11.4882536 ,  7.85228765, 10.23535953,  6.63896851,\n",
       "       11.8251284 , 10.36030041,  6.54239114, 10.50958363,  8.9554248 ,\n",
       "        8.98354305,  8.09430271,  6.46232036, 10.94591487,  6.61313538,\n",
       "       12.38663655,  7.4731071 , 13.61016955, 11.21114291, 15.45855837,\n",
       "       10.77962871, 12.56744423, 10.54705322,  8.84895553,  7.07730032,\n",
       "        3.35130208, 10.50548687, 13.03325858, 11.35678601, 10.46207378,\n",
       "        9.54512055,  9.8026601 , 11.23848913, 10.11243468,  6.95267056,\n",
       "        9.75606896,  9.18040754, 10.9499982 ,  8.89071462,  9.28937624,\n",
       "       10.41599103,  6.56778688, 10.06516508, 10.18384879, 13.97650245,\n",
       "        9.35492143,  6.64993539,  7.82303095,  9.39403814,  8.96296961,\n",
       "       10.41598661, 11.00215967, 10.82249151,  6.61328615, 10.62623209,\n",
       "       10.63277711, 14.7839423 , 10.41263568, 10.38522504, 10.21025105,\n",
       "        7.73123782, 11.5147555 ,  7.47646758,  8.47658466,  9.63499855,\n",
       "        9.51359818, 11.63603749,  9.55119937, 10.961965  ,  9.75904381,\n",
       "       12.21062365,  6.29326448,  9.75889102, 10.65144393,  8.61385947,\n",
       "        7.67438891,  7.40053501,  8.74761488,  9.62449238, 11.34844046,\n",
       "       11.26853118, 12.17996856, 10.37545045,  8.95649114,  9.23603478,\n",
       "       10.08022274, 10.24827152,  5.73442509, 10.33885915,  8.87664404,\n",
       "        8.17626528,  6.6436679 , 14.01612141, 12.95227032, 10.08617122,\n",
       "        9.57613121, 15.66781707,  6.31671222, 10.2430383 ,  6.62839533,\n",
       "       11.3537751 , 12.18373321,  7.66620151,  7.46692245, 14.70260231,\n",
       "       10.24359683,  8.51063477, 10.06436508,  6.38538075, 12.55498191,\n",
       "        9.56253417, 11.65112283,  9.89783754, 10.31650878, 10.84464084,\n",
       "       11.84175471,  9.50054052,  8.26073884,  9.27175448,  9.15496915,\n",
       "        6.01903894,  8.09572832, 12.7801198 ,  8.28871053, 10.16435589,\n",
       "        9.01265053, 13.29798714, 13.00219505,  9.97243794, 11.07709286,\n",
       "        7.98575253, 11.09862265, 10.65761856, 11.82556327, 11.09621083,\n",
       "       11.72141491, 10.38122307, 10.27097312,  8.41350435, 10.02941902,\n",
       "       10.60815522,  9.2217139 ,  6.73808355, 10.69912135,  8.93317862,\n",
       "       13.57522621, 10.92848605, 12.71745176, 10.01294184, 10.00720206,\n",
       "        9.25895279, 10.97185512,  9.8633319 ,  9.12423789, 10.21935194,\n",
       "       12.74393239,  5.70516504,  6.52212487, 10.85375014,  8.56229271,\n",
       "       11.57136989, 13.03538529, 12.31091119, 12.01688175, 10.05066562,\n",
       "        6.20094367,  7.19528278,  7.91527638,  7.22220806,  9.34571966,\n",
       "       10.07496884, 13.81480462, 11.71614374,  6.63626693, 11.66906055,\n",
       "        8.85661708,  9.93891193,  6.85787126, 10.48412675, 10.79790416,\n",
       "       10.55962859, 11.19672073,  7.98038028,  8.48738112,  8.99396521,\n",
       "        6.10746049, 12.62341107,  8.2093651 , 11.31825047,  4.14684236,\n",
       "        9.83547778, 10.12522939, 12.2671679 , 11.22878149,  6.86538834,\n",
       "       11.4791105 ,  6.2628792 , 10.33870236, 10.89957881, 11.85040423,\n",
       "       11.14060456,  6.89031248,  9.09657357,  9.14868513,  8.07574262,\n",
       "        6.86342834, 11.82231208,  7.7575393 , 10.92668913,  7.08845412,\n",
       "       10.38521846,  6.51326238,  6.5733703 ,  8.0224404 , 10.42969336,\n",
       "       12.54874472,  8.59720202, 12.32850426, 10.8055239 , 13.16598091,\n",
       "        8.81329401, 10.8074332 , 12.60538093, 10.12535762, 10.56233139,\n",
       "       12.80483752, 13.55962733, 12.95652264, 16.38089403,  6.32003674,\n",
       "       10.90067501, 11.22058291,  8.70949389, 11.7673264 ,  8.84455506,\n",
       "        8.22266865,  9.72422727, 12.3609231 , 11.42163836,  7.82593713,\n",
       "       10.93502295,  8.84407242, 10.45022993, 10.67165261, 10.83319858,\n",
       "       12.96763067, 11.38309163, 12.33229117, 11.17876862,  8.98780985,\n",
       "       15.56864988, 10.42794193,  8.9563337 , 10.54639433, 12.11091763,\n",
       "        6.38527592, 13.76849913, 11.54705184,  8.23918625, 12.68358352,\n",
       "        7.17312285,  9.8936584 , 13.11784098, 11.1125105 , 11.08706005,\n",
       "        6.04188196, 10.51297537,  8.01590356, 11.55529315,  8.96826683,\n",
       "       10.43830179, 10.96183248, 10.49485991,  8.07621683,  9.82485883,\n",
       "       10.69736508,  6.86540939,  7.60131277, 11.22478291, 10.03925058,\n",
       "       12.39278512, 10.74825514, 11.17579901,  5.72599522, 12.26383357,\n",
       "       10.91545849,  9.79446566,  8.48020842, 11.32089746, 11.37602683,\n",
       "        9.32468327, 10.73848152,  9.52933277, 10.68966749,  9.99536269,\n",
       "        8.08300638, 10.98897953,  6.84291698,  7.10997632,  9.37205583,\n",
       "        7.73121755, 11.70906431, 12.65949054, 10.8909019 , 11.73000144,\n",
       "       10.96006884, 13.601916  ,  8.12961062,  7.6319925 ,  7.84545355,\n",
       "        7.60859014,  8.12102167, 10.38832089, 12.66977008, 11.15370796,\n",
       "        9.84353754, 10.72788576,  9.89795414,  8.72737795, 12.77189287,\n",
       "        9.38960268,  9.72037994,  9.39875932,  9.9813523 , 10.3232164 ,\n",
       "       11.57711399, 10.92741962,  9.18783734, 10.74231179,  9.11045133,\n",
       "        8.69732675, 10.99188171,  6.48153566, 10.44460823, 14.58216602,\n",
       "       12.94849699, 11.4033125 ,  7.99198189, 10.46008555, 12.53715932,\n",
       "       11.79711148,  7.9162539 , 10.38905606, 11.58431158,  7.16223237,\n",
       "        9.10216622,  9.40917004, 12.5409369 ,  9.24270159, 10.49234575,\n",
       "        6.51524619, 12.44554156,  6.8788751 ,  9.22669647,  9.58853226,\n",
       "       11.04316408,  8.74781843, 10.0850573 ,  9.10025585, 10.36278451,\n",
       "       12.84613452,  8.17781691,  6.60482343, 10.23000364,  6.78966966,\n",
       "       12.69656799,  8.17691598,  7.50133745,  9.6382246 ,  7.16453769,\n",
       "       11.26066782,  9.90809324,  7.57501736, 11.77799556,  9.26692859,\n",
       "        9.29429234,  7.03339505,  8.50162203, 12.09240657,  9.70146017,\n",
       "        6.09428642,  7.57209536,  7.81306148, 10.86182658, 11.06516245,\n",
       "       13.70273972, 10.44108571,  9.82116377, 10.77068306,  8.94530114,\n",
       "       12.60826798,  6.50527208, 11.19794133,  7.08905188,  7.71212779,\n",
       "        9.9374632 , 11.39611476,  9.82963829,  7.68396597, 12.24645916,\n",
       "       12.57821967, 11.63016659,  5.84226461, 10.84723624,  8.46085321,\n",
       "       11.89023564,  7.67716794, 10.46465032,  7.16611767,  8.32535134,\n",
       "       11.53301176, 12.44019514, 10.91482125, 10.63729763,  8.75329842,\n",
       "       10.92320308, 11.37117694,  7.73452513, 12.11320236, 11.29764463,\n",
       "        9.22192465, 10.98876396, 11.2296178 ,  6.55002062,  9.38375402,\n",
       "        8.45741261,  8.14510569,  7.72995414, 10.47825626,  9.57000329,\n",
       "       10.06344508,  7.9598593 , 10.70885164,  9.33708256, 11.70912045,\n",
       "       10.02044174, 13.37958095, 10.77878391, 13.51690493,  7.37452367,\n",
       "       12.77561974, 11.22640763, 13.13513687, 11.62269038,  7.24050667,\n",
       "       10.68552143, 10.1677251 , 10.79673997, 11.62334832, 11.02477048,\n",
       "       11.35184667,  9.9278466 ,  9.08377006,  6.29844634,  8.19991721,\n",
       "        6.70625958,  6.97136786,  9.23337702,  7.75909358,  8.54766561,\n",
       "        9.30095476,  9.67979223, 10.05507966,  9.10162115, 11.32528669,\n",
       "       11.14634016, 11.728867  , 10.74706122,  9.92171122,  6.59008667,\n",
       "       11.9621073 ,  9.67879107,  9.11792229,  8.00295194, 10.6827471 ,\n",
       "       10.12187363,  9.83734711,  7.32205464,  8.00691779,  9.87382026,\n",
       "       10.42817935, 11.35774765, 11.23548332, 10.03473143,  5.8150794 ,\n",
       "        7.27702326, 13.58495496, 14.00372733, 11.57111333,  8.76114336,\n",
       "        8.58899694, 10.13236901, 11.60408118,  8.21373659, 10.61205163,\n",
       "        9.64408064,  8.93462092,  7.97429536, 11.1548706 , 13.25211741,\n",
       "       11.42105358, 10.33104469, 10.90922547, 10.97303584,  8.03298358,\n",
       "        9.53699446, 10.32872773, 10.64056812, 11.56275449, 12.15581341,\n",
       "       11.16126412,  6.93103508,  6.88197778,  8.48555419,  9.81647499,\n",
       "       10.27728355, 13.91606106, 11.1702245 , 10.6382653 , 10.54190274,\n",
       "        9.56977491, 11.78387063,  6.77053877,  7.55903362,  9.68868325,\n",
       "        9.31550425, 11.28286518,  8.66836479,  6.85525315,  9.17502596,\n",
       "       10.13797845, 11.31090777, 12.31119219, 13.11435462, 11.43755462,\n",
       "       10.6612338 , 13.7755254 , 10.02401855, 14.0172954 , 12.00250326,\n",
       "       11.26576965, 10.55342452, 12.33450915,  9.85675104, 11.279032  ,\n",
       "        8.69838196,  9.74230247,  7.12113561,  9.26003071, 12.74381639,\n",
       "       10.30665867, 14.46345019, 10.52773674, 12.25954285, 10.6519335 ,\n",
       "       10.86532186, 12.67299502,  9.73637512, 12.06072576, 11.07497224,\n",
       "        7.64388049,  7.32019368, 10.17575207,  9.99267527,  6.65923801,\n",
       "        8.5303382 ,  6.78835776,  6.15647458,  8.05696054,  9.42540529,\n",
       "       11.35616587])"
      ]
     },
     "execution_count": 66,
     "metadata": {},
     "output_type": "execute_result"
    }
   ],
   "source": [
    "#predcition on the test data\n",
    "y_pred=MLR.predict(x_test)\n",
    "y_pred"
   ]
  },
  {
   "cell_type": "code",
   "execution_count": 67,
   "id": "a35b6300",
   "metadata": {},
   "outputs": [
    {
     "data": {
      "text/plain": [
       "array([10.64104453, 11.72955404,  9.71670847, ...,  9.33031288,\n",
       "       11.94411399,  9.8609076 ])"
      ]
     },
     "execution_count": 67,
     "metadata": {},
     "output_type": "execute_result"
    }
   ],
   "source": [
    "#prediction in the train data \n",
    "pred=MLR.predict(x_train)\n",
    "pred"
   ]
  },
  {
   "cell_type": "code",
   "execution_count": 68,
   "id": "088eaf86",
   "metadata": {},
   "outputs": [
    {
     "data": {
      "text/plain": [
       "0.4331576346139585"
      ]
     },
     "execution_count": 68,
     "metadata": {},
     "output_type": "execute_result"
    }
   ],
   "source": [
    "from sklearn.metrics import r2_score\n",
    "\n",
    "acc=r2_score(y_test,y_pred)\n",
    "\n",
    "acc"
   ]
  },
  {
   "cell_type": "code",
   "execution_count": 69,
   "id": "349f4278",
   "metadata": {},
   "outputs": [
    {
     "data": {
      "text/plain": [
       "array([9.91033204])"
      ]
     },
     "execution_count": 69,
     "metadata": {},
     "output_type": "execute_result"
    }
   ],
   "source": [
    "#test this model\n",
    "\n",
    "MLR.predict([[1,0.455,0.365,0.095,0.5140,0.2245,0.1010,0.150]])"
   ]
  },
  {
   "cell_type": "markdown",
   "id": "0b32bf0a",
   "metadata": {},
   "source": [
    "# 14. Measure the performance using Metrics.¶"
   ]
  },
  {
   "cell_type": "code",
   "execution_count": 70,
   "id": "02fd9354",
   "metadata": {},
   "outputs": [],
   "source": [
    "from sklearn import metrics\n",
    "from sklearn.metrics import mean_squared_error"
   ]
  },
  {
   "cell_type": "code",
   "execution_count": 71,
   "id": "27dfd66c",
   "metadata": {},
   "outputs": [
    {
     "data": {
      "text/plain": [
       "2.4905110779015462"
      ]
     },
     "execution_count": 71,
     "metadata": {},
     "output_type": "execute_result"
    }
   ],
   "source": [
    "np.sqrt(mean_squared_error(y_test,y_pred))"
   ]
  },
  {
   "cell_type": "markdown",
   "id": "0ed62889",
   "metadata": {},
   "source": [
    "# LASSO"
   ]
  },
  {
   "cell_type": "code",
   "execution_count": 72,
   "id": "01fed2b3",
   "metadata": {},
   "outputs": [],
   "source": [
    "from sklearn.linear_model import Lasso, Ridge"
   ]
  },
  {
   "cell_type": "code",
   "execution_count": 73,
   "id": "154070c3",
   "metadata": {},
   "outputs": [],
   "source": [
    "#intialising model\n",
    "\n",
    "lso=Lasso(alpha=0.01,normalize=True)"
   ]
  },
  {
   "cell_type": "code",
   "execution_count": 74,
   "id": "4847990f",
   "metadata": {},
   "outputs": [
    {
     "data": {
      "text/plain": [
       "Lasso(alpha=0.01, normalize=True)"
      ]
     },
     "execution_count": 74,
     "metadata": {},
     "output_type": "execute_result"
    }
   ],
   "source": [
    "#fit the model\n",
    "lso.fit(x_train,y_train)"
   ]
  },
  {
   "cell_type": "code",
   "execution_count": 75,
   "id": "cb70ffc1",
   "metadata": {},
   "outputs": [],
   "source": [
    "#predcition on test data\n",
    "\n",
    "lso_pred=lso.predict(x_test)"
   ]
  },
  {
   "cell_type": "code",
   "execution_count": 76,
   "id": "ceb6ef03",
   "metadata": {},
   "outputs": [
    {
     "data": {
      "text/plain": [
       "array([-0.        ,  0.        ,  0.        ,  0.4751529 ,  0.18634695,\n",
       "        0.        ,  0.        ,  0.8021721 ])"
      ]
     },
     "execution_count": 76,
     "metadata": {},
     "output_type": "execute_result"
    }
   ],
   "source": [
    "#coef\n",
    "coef=lso.coef_\n",
    "coef"
   ]
  },
  {
   "cell_type": "code",
   "execution_count": 77,
   "id": "1b3bab9a",
   "metadata": {},
   "outputs": [
    {
     "data": {
      "text/plain": [
       "0.3260900261255968"
      ]
     },
     "execution_count": 77,
     "metadata": {},
     "output_type": "execute_result"
    }
   ],
   "source": [
    "#accuracy\n",
    "\n",
    "from sklearn import metrics\n",
    "from sklearn.metrics import mean_squared_error\n",
    "metrics.r2_score(y_test,lso_pred)"
   ]
  },
  {
   "cell_type": "code",
   "execution_count": 78,
   "id": "c3ea9b44",
   "metadata": {},
   "outputs": [
    {
     "data": {
      "text/plain": [
       "2.715552909824135"
      ]
     },
     "execution_count": 78,
     "metadata": {},
     "output_type": "execute_result"
    }
   ],
   "source": [
    "#error\n",
    "\n",
    "np.sqrt(mean_squared_error(y_test,lso_pred))"
   ]
  },
  {
   "cell_type": "markdown",
   "id": "84984ea0",
   "metadata": {},
   "source": [
    "# RIDGE"
   ]
  },
  {
   "cell_type": "code",
   "execution_count": 79,
   "id": "f0afb23c",
   "metadata": {},
   "outputs": [],
   "source": [
    "rg=Ridge(alpha=0.01,normalize=True)"
   ]
  },
  {
   "cell_type": "code",
   "execution_count": 80,
   "id": "e20c3290",
   "metadata": {},
   "outputs": [
    {
     "data": {
      "text/plain": [
       "Ridge(alpha=0.01, normalize=True)"
      ]
     },
     "execution_count": 80,
     "metadata": {},
     "output_type": "execute_result"
    }
   ],
   "source": [
    "#fit\n",
    "rg.fit(x_train,y_train)"
   ]
  },
  {
   "cell_type": "code",
   "execution_count": 81,
   "id": "2791bf35",
   "metadata": {},
   "outputs": [
    {
     "data": {
      "text/plain": [
       "array([11.49838542,  9.22452452,  6.72241086,  7.80010402, 12.09475499,\n",
       "       11.33701357, 11.13313   ,  8.85299136, 10.95426872,  6.83332623,\n",
       "       10.48221326,  9.08348674, 12.3098871 , 14.39846005, 13.62343834,\n",
       "       10.11925891, 11.53997639,  7.75730522, 12.85320604,  8.43018605,\n",
       "        6.53855123,  8.20224034,  7.58755052, 10.2671289 , 10.65653767,\n",
       "       11.30141111,  7.50735436,  9.91086293, 11.27856902, 11.29021902,\n",
       "       10.93344581, 10.32246436, 10.4456454 , 10.47230589, 11.05682097,\n",
       "       10.1640513 , 10.10050704,  6.5623351 , 11.84100809,  6.75171646,\n",
       "        4.18665064, 11.0291328 ,  7.72116038,  9.60080953, 11.57691909,\n",
       "       13.01362452,  6.35434964,  7.30414243, 15.1541625 ,  6.91515291,\n",
       "        4.16356146,  6.81943931, 11.43766939, 10.62078881,  8.65255458,\n",
       "        7.53582353, 10.44494347, 11.86697333, 13.45239251, 10.40153892,\n",
       "        9.1961334 ,  7.75332002, 12.25958727,  6.54710958, 11.17149665,\n",
       "        7.96864693,  9.37526527,  9.69298327,  9.54666379, 12.19633696,\n",
       "       12.1127204 ,  4.82993146,  6.43644112,  9.93303646, 12.00590353,\n",
       "       12.76127566,  6.53636246, 10.58092597,  7.71945979,  5.98307484,\n",
       "       11.30567761, 10.77297947, 16.83531384,  9.62951405,  9.07577717,\n",
       "        6.65047637, 11.98056215,  5.83715385,  4.18471904, 10.06479866,\n",
       "       10.18956629, 11.5066688 , 10.63940289, 10.38796727, 12.94599046,\n",
       "        8.20350982, 11.97283418,  6.76136543, 11.43888926, 12.87870887,\n",
       "       12.1731301 , 10.29770377, 12.06463716, 10.85378482,  6.90091826,\n",
       "        9.21027857, 10.0490861 ,  8.7920958 , 12.17153896,  9.10660281,\n",
       "       13.70358748, 11.84892197, 14.75313844,  9.48633443, 13.40213759,\n",
       "       10.70882342, 10.45191769, 10.55579115,  9.28883974, 11.09051442,\n",
       "        9.07081451,  9.87836156, 11.21873575, 13.2089999 ,  8.39076623,\n",
       "       11.9528136 ,  9.10356125, 13.17591947, 10.9442413 , 10.24830796,\n",
       "       12.19717065, 11.55539856,  9.72230349, 10.76923856, 11.65965077,\n",
       "       10.48695008, 10.13219611,  7.95385901, 10.83336217,  6.87213337,\n",
       "       11.27562978, 11.80024364, 10.63478434,  7.32837905, 12.02177859,\n",
       "        6.88008105, 10.51488573, 10.74572308,  9.68690939,  9.03897787,\n",
       "       11.00060924, 11.36698051,  6.76431626, 11.9151529 , 11.34774288,\n",
       "        7.00783196,  9.11793255, 11.67828732, 16.24049584,  9.56649069,\n",
       "       10.25689202,  7.38851671,  8.83719827, 11.00837596,  4.54284924,\n",
       "       15.86350514, 10.40239742,  8.69063268, 12.11239577, 12.34353755,\n",
       "       12.88297224, 12.54327668,  9.97772   ,  8.81863734, 10.31721875,\n",
       "        7.58750179,  8.31067156,  8.39092013,  6.81536253, 10.44685332,\n",
       "        8.68030379, 12.93830268,  9.57544954, 10.26634765, 11.95659802,\n",
       "        7.70845666,  7.69388064,  5.99943409, 12.37787088, 13.27501609,\n",
       "        9.71366628,  9.94822274,  8.63795934,  9.01845964,  9.30068509,\n",
       "       10.08950888,  9.80704427, 10.68767284, 11.69752998,  7.87741728,\n",
       "        7.02861388, 10.3626669 , 10.08714066, 13.32318863, 11.00685679,\n",
       "        9.44738743, 11.02833792, 12.67330622,  7.6632607 , 11.18914136,\n",
       "        6.40825099,  5.92007266,  6.4602233 ,  7.81186616, 11.23307956,\n",
       "       11.5053485 ,  8.49874197,  6.94188196,  8.13470233, 11.19765383,\n",
       "       13.30800248, 11.15977133, 11.95655959,  8.89512917, 11.37596836,\n",
       "        9.63551483, 12.46315856,  8.73340687, 11.15598436, 11.97267489,\n",
       "       11.24954254, 11.01983993,  9.4648374 ,  9.89236169,  9.86930246,\n",
       "       10.0760753 , 10.77854885, 11.08620415,  4.47798254, 11.49976399,\n",
       "       11.08697286, 10.44177846, 11.38312084, 10.93224499, 11.18098005,\n",
       "        6.45025751, 11.57537519,  6.82353055,  6.89456057, 12.59885   ,\n",
       "       11.64329834, 10.49797733,  9.32933182, 10.38507416,  6.41190654,\n",
       "       11.78912162,  6.21851243, 11.20636276, 13.49037587, 11.88743939,\n",
       "        8.95847062,  8.98430951,  9.27536967,  9.68056469, 11.62274248,\n",
       "       12.14032845, 11.44904659,  7.85659953, 10.28645972,  6.63451145,\n",
       "       11.78587647, 10.34215658,  6.59151892, 10.49494284,  8.90814059,\n",
       "        8.97949061,  8.12615938,  6.48561581, 10.85601896,  6.62878809,\n",
       "       12.35848063,  7.45694114, 13.49103403, 11.15657932, 15.21728341,\n",
       "       10.69205602, 12.50581907, 10.5739812 ,  8.83797128,  7.08881426,\n",
       "        3.87276633, 10.51857642, 12.85786509, 11.35955594, 10.47900984,\n",
       "        9.58568415,  9.80984884, 11.17511506, 10.06416407,  6.97424076,\n",
       "        9.77440731,  9.2528224 , 10.8442141 ,  9.03210263,  9.21809753,\n",
       "       10.40201461,  6.58474175, 10.17164339, 10.26919655, 13.86780972,\n",
       "        9.26151181,  6.63613224,  7.78282879,  9.41534294,  8.96700877,\n",
       "       10.43385339, 11.06854436, 10.88918033,  6.59617661, 10.6370877 ,\n",
       "       10.64553436, 14.66518064, 10.48972875, 10.39652906, 10.2331529 ,\n",
       "        7.72394834, 11.43472154,  7.48742511,  8.45708075,  9.78643391,\n",
       "        9.44778744, 11.50577817,  9.50737439, 11.02441458,  9.97962707,\n",
       "       12.1840861 ,  6.31044642,  9.77212247, 10.67171364,  8.59741406,\n",
       "        7.73354752,  7.35331512,  8.74870734,  9.57481255, 11.37456903,\n",
       "       11.28261971, 12.1950409 , 10.35838672,  8.96424907,  9.45959924,\n",
       "       10.16212453, 10.200723  ,  5.72390059, 10.37242164,  8.88886482,\n",
       "        8.24196   ,  6.65922743, 13.99033255, 12.88487307, 10.07454895,\n",
       "        9.5451025 , 15.5483445 ,  6.39785678, 10.39428473,  6.74971658,\n",
       "       11.26855944, 12.19935589,  7.66123794,  7.50161072, 14.60639741,\n",
       "       10.19780828,  8.46056498, 10.05955997,  6.37757092, 12.49493162,\n",
       "        9.58004296, 11.65583645,  9.95929104, 10.42428224, 10.8241531 ,\n",
       "       11.92451903,  9.53623769,  8.23541423,  9.28224364,  9.40905799,\n",
       "        6.00889672,  8.1276582 , 12.71447416,  8.27835249, 10.14972547,\n",
       "        8.94534269, 13.29871882, 12.93195305,  9.99873857, 11.07042359,\n",
       "        8.099658  , 11.1286901 , 10.6482977 , 11.81821228, 11.18317892,\n",
       "       11.62867359, 10.47744403, 10.22252214,  8.49302012, 10.01094453,\n",
       "       10.75777356,  9.26928915,  6.7568407 , 10.66969681,  8.86879665,\n",
       "       13.55929076, 10.94683201, 12.68486491, 10.06414355,  9.94287412,\n",
       "        9.30144087, 10.82339399,  9.85334979,  9.10407734, 10.2525173 ,\n",
       "       12.77741089,  5.68893138,  6.49283047, 10.89990007,  8.58017856,\n",
       "       11.5887486 , 12.96261099, 12.22075106, 11.87430045, 10.13100392,\n",
       "        6.18738581,  7.20703398,  7.90275003,  7.24575483,  9.32297009,\n",
       "       10.049423  , 13.71971605, 11.71343433,  6.66312795, 11.65311553,\n",
       "        8.99500802,  9.9715779 ,  6.89546864, 10.56474512, 10.73939813,\n",
       "       10.48457632, 11.15205274,  7.99872355,  8.53797831,  8.95501043,\n",
       "        6.07510601, 12.52784466,  8.25007217, 11.30458313,  4.25682748,\n",
       "        9.84899656, 10.14432542, 12.29021582, 11.16389855,  6.90668925,\n",
       "       11.42152126,  6.2221227 , 10.30904438, 10.82321124, 11.86274116,\n",
       "       11.06327126,  6.87973495,  9.04275019,  9.13894501,  8.11754994,\n",
       "        6.85751545, 11.80748779,  7.72868172, 10.89454364,  7.11293892,\n",
       "       10.38975592,  6.48326224,  6.69713303,  8.02887711, 10.38334779,\n",
       "       12.42974125,  8.66127413, 12.28334647, 11.00891444, 13.02262217,\n",
       "        8.89417225, 10.8589733 , 12.63139199, 10.10251483, 10.50954458,\n",
       "       12.80393084, 13.43142748, 12.79425224, 16.21604132,  6.33263732,\n",
       "       10.87716752, 11.17796022,  8.72568661, 11.65122016,  8.86467226,\n",
       "        8.23843415,  9.79694134, 12.38970416, 11.39601698,  7.79602038,\n",
       "       10.96374569,  8.91320407, 10.50669998, 10.69532485, 10.81343665,\n",
       "       12.91169547, 11.37568531, 12.29100454, 11.15802819,  9.18491745,\n",
       "       15.48078792, 10.42567485,  8.92158008, 10.56650209, 12.0871497 ,\n",
       "        6.45199153, 13.67530697, 11.61315315,  8.23907876, 12.6106001 ,\n",
       "        7.17826414,  9.87218554, 13.11256355, 11.13795539, 11.12941209,\n",
       "        5.99299056, 10.4657615 ,  8.07986646, 11.55725087,  8.96572224,\n",
       "       10.42677358, 10.94480166, 10.46216692,  8.11297543,  9.88482968,\n",
       "       10.85800625,  6.88331131,  7.61218588, 11.11474679, 10.04244503,\n",
       "       12.28736721, 10.76969575, 11.21999982,  5.72424604, 12.20736557,\n",
       "       10.98247529,  9.69666378,  8.53288302, 11.22267266, 11.34762175,\n",
       "        9.19651324, 10.7067184 ,  9.56371134, 10.62887714,  9.93457395,\n",
       "        8.1117176 , 10.97861549,  6.84131656,  7.11899797,  9.38766528,\n",
       "        7.70682359, 11.69294154, 12.54874904, 10.81333986, 11.71026397,\n",
       "       11.06307776, 13.45513577,  8.12014483,  7.62004365,  7.85131689,\n",
       "        7.57383566,  8.14101066, 10.36933858, 12.66241706, 11.09353888,\n",
       "        9.99514157, 10.67087203, 10.1233551 ,  8.7708886 , 12.68059039,\n",
       "        9.4081762 ,  9.76314383,  9.50676299,  9.96969188, 10.26495044,\n",
       "       11.58470746, 11.01840418,  9.17863162, 10.75238042,  9.1832314 ,\n",
       "        8.7246321 , 11.00204035,  6.46012017, 10.44441362, 14.45693754,\n",
       "       12.93722931, 11.46056757,  7.99408559, 10.40783581, 12.41391106,\n",
       "       11.73883559,  7.89024672, 10.40527629, 11.56160445,  7.20240556,\n",
       "        9.10294513,  9.41028568, 12.61556389,  9.23872161, 10.36394197,\n",
       "        6.64171283, 12.39208866,  6.91192035,  9.11816472,  9.61488048,\n",
       "       11.06590975,  8.77365077, 10.00020445,  9.12652724, 10.40060109,\n",
       "       12.75441991,  8.20743087,  6.63265405, 10.28651499,  6.79780836,\n",
       "       12.54318889,  8.17223193,  7.55255575,  9.57050901,  7.16950072,\n",
       "       11.25237672,  9.90317257,  7.60682222, 11.71130337,  9.26807189,\n",
       "        9.36277296,  7.10152625,  8.48579677, 12.09227816,  9.79566266,\n",
       "        6.0715946 ,  7.60146041,  7.86719022, 10.85879117, 11.15432949,\n",
       "       13.59124627, 10.40837061,  9.92643695, 10.73415089,  8.90515301,\n",
       "       12.62400805,  6.63257997, 11.28589176,  7.13017972,  7.74671968,\n",
       "        9.92168934, 11.32691298,  9.85729071,  7.67761951, 12.27633458,\n",
       "       12.54855808, 11.6657712 ,  5.81846757, 10.8308722 ,  8.46878968,\n",
       "       11.91098582,  7.70567727, 10.53971975,  7.17999885,  8.39198393,\n",
       "       11.60423326, 12.33806169, 10.91249979, 10.61338052,  8.77514762,\n",
       "       10.89232459, 11.32876575,  7.73482592, 12.04724878, 11.31204021,\n",
       "        9.34565271, 10.9866902 , 11.34988858,  6.55921535,  9.40826825,\n",
       "        8.46409882,  8.1553133 ,  7.67809834, 10.48878115,  9.60190202,\n",
       "       10.0296193 ,  8.01886072, 10.87014364,  9.41376283, 11.61684076,\n",
       "       10.02044539, 13.18398368, 10.7219173 , 13.40211254,  7.49300801,\n",
       "       12.6880233 , 11.27889143, 13.05061898, 11.59657477,  7.26716858,\n",
       "       10.70483905, 10.13958736, 10.7732513 , 11.63385283, 11.05368328,\n",
       "       11.30503134,  9.92690783,  9.05061621,  6.29566148,  8.40301658,\n",
       "        6.70597273,  6.97997037,  9.23850916,  7.84728204,  8.6132782 ,\n",
       "        9.24245708,  9.75213724, 10.0291751 ,  9.15008267, 11.29832978,\n",
       "       11.15821643, 11.7560541 , 10.82651825,  9.90723801,  6.61184814,\n",
       "       11.98023799,  9.68039328,  9.11568129,  8.03479435, 10.71824393,\n",
       "       10.17011107,  9.89231304,  7.32780889,  8.0416453 ,  9.8634335 ,\n",
       "       10.51179895, 11.33313629, 11.23830122, 10.00910854,  5.77744201,\n",
       "        7.26125943, 13.4774915 , 13.86725307, 11.52079862,  8.74831745,\n",
       "        8.62802807, 10.16053782, 11.72559647,  8.5177444 , 10.56751939,\n",
       "        9.59463105,  8.96536228,  7.92706606, 11.10139975, 13.06995564,\n",
       "       11.38877302, 10.26265739, 10.85983237, 11.01955197,  8.25411616,\n",
       "        9.53402472, 10.43349959, 10.7075858 , 11.47837897, 12.16431619,\n",
       "       11.22218712,  6.92632516,  6.87451464,  8.45791056,  9.95146568,\n",
       "       10.36015117, 13.79832314, 11.2318581 , 10.54391997, 10.5686654 ,\n",
       "        9.55098047, 11.79998899,  6.74547161,  7.57082874,  9.64836798,\n",
       "        9.37085158, 11.27691306,  8.65414117,  6.87447745,  9.18253712,\n",
       "       10.18949588, 11.46595348, 12.20878639, 13.02277405, 11.36252458,\n",
       "       10.66308883, 13.63898591,  9.98293497, 13.98064326, 11.96428825,\n",
       "       11.25662425, 10.61689559, 12.25257337,  9.86835272, 11.23266744,\n",
       "        8.68352163,  9.73872428,  7.14348626,  9.28172548, 12.7353726 ,\n",
       "       10.36269648, 14.28978105, 10.45135314, 12.2132797 , 10.57542974,\n",
       "       10.93453846, 12.62696233,  9.72973357, 11.93085704, 11.04319889,\n",
       "        7.61250642,  7.32611621, 10.08531561,  9.98537111,  6.64958646,\n",
       "        8.54166226,  6.78580666,  6.15400563,  8.0558062 ,  9.40166298,\n",
       "       11.33815155])"
      ]
     },
     "execution_count": 81,
     "metadata": {},
     "output_type": "execute_result"
    }
   ],
   "source": [
    "#predcition\n",
    "\n",
    "rg_pred=rg.predict(x_test)\n",
    "rg_pred"
   ]
  },
  {
   "cell_type": "code",
   "execution_count": 82,
   "id": "11ab8d19",
   "metadata": {},
   "outputs": [
    {
     "data": {
      "text/plain": [
       "array([-0.30797338, -0.75443399,  0.34843757,  0.94370227,  0.96851431,\n",
       "       -1.38791368, -0.04943813,  1.70772786])"
      ]
     },
     "execution_count": 82,
     "metadata": {},
     "output_type": "execute_result"
    }
   ],
   "source": [
    "#coef\n",
    "rg.coef_"
   ]
  },
  {
   "cell_type": "code",
   "execution_count": 83,
   "id": "96d74054",
   "metadata": {},
   "outputs": [
    {
     "data": {
      "text/plain": [
       "0.43177328549243543"
      ]
     },
     "execution_count": 83,
     "metadata": {},
     "output_type": "execute_result"
    }
   ],
   "source": [
    "#accuracy\n",
    "\n",
    "metrics.r2_score(y_test,rg_pred)"
   ]
  },
  {
   "cell_type": "code",
   "execution_count": 84,
   "id": "6e69495d",
   "metadata": {},
   "outputs": [
    {
     "data": {
      "text/plain": [
       "2.4935504011542577"
      ]
     },
     "execution_count": 84,
     "metadata": {},
     "output_type": "execute_result"
    }
   ],
   "source": [
    "#error\n",
    "\n",
    "np.sqrt(mean_squared_error(y_test,rg_pred))"
   ]
  }
 ],
 "metadata": {
  "kernelspec": {
   "display_name": "Python 3 (ipykernel)",
   "language": "python",
   "name": "python3"
  },
  "language_info": {
   "codemirror_mode": {
    "name": "ipython",
    "version": 3
   },
   "file_extension": ".py",
   "mimetype": "text/x-python",
   "name": "python",
   "nbconvert_exporter": "python",
   "pygments_lexer": "ipython3",
   "version": "3.9.12"
  }
 },
 "nbformat": 4,
 "nbformat_minor": 5
}
